{
 "cells": [
  {
   "cell_type": "code",
   "execution_count": 212,
   "id": "8e1ce399",
   "metadata": {
    "ExecuteTime": {
     "end_time": "2023-07-30T20:17:57.362612Z",
     "start_time": "2023-07-30T20:17:57.249565Z"
    }
   },
   "outputs": [],
   "source": [
    "\n",
    "import warnings\n",
    "import numpy as np\n",
    "import pandas as pd\n",
    "import matplotlib.pyplot as plt\n",
    "from scipy.stats import norm\n",
    "import datetime\n",
    "from scipy import optimize\n",
    "import pprint\n",
    "\n",
    "\n",
    "class Gaussian():\n",
    "    \n",
    "    def __init__(self, n=None, delta=None, alpha=None, power=None, sd=None,  two_sided=True):\n",
    "        # method that initializes the instance of the Normal class\n",
    "        \"\"\" n - minimal sample size for one group\n",
    "        delta - effect size \n",
    "        alpha - significance level (Type I error)\n",
    "        power - power of the test while 0.8 being the default  (1 minus Type II error)\n",
    "        sd    - standard deviation in the control group\n",
    "        tails - default two sided test \n",
    "        \"\"\"\n",
    "        #if is None:\n",
    "         #   raise Exception(\"Parameter mean_control_group must be specified\")  \n",
    "\n",
    "        if sum([n is None, delta is None,alpha is None,power is None,sd is None])!=1:\n",
    "            print(sum([n is None, delta is None, alpha is None, power is None, sd is None]))\n",
    "            raise Exception(\"One and only one of the parameters n, delta, alpha, power, sd must be None\")\n",
    "        elif np.abs(any([alpha, power]))>1:\n",
    "            raise ValueError(\"any of the arguments alpha, power must be within range 0-1\") \n",
    "        else:\n",
    "            self.delta=delta\n",
    "            self.power=power\n",
    "            self.alpha=alpha\n",
    "            self.sd=sd\n",
    "            self.two_sided = two_sided\n",
    "            self.z_score_a=norm.ppf(1-self.alpha/(1 if self.two_sided==False else 2)) if alpha is not None else None\n",
    "            self.z_score_b=norm.ppf(self.power) if power is not None else None\n",
    "            #self.mean_test_group=self.delta if self.delta is None else self.mean_control_group + self.delta\n",
    "            \n",
    "            # sample size attribute will be the floor of the provided argument (integer of sample available) or the ceiling of the calculated value (based on other parameters).\n",
    "            self.n=self.Sample_Size_() if n is None else np.floor(n)\n",
    "            self.power=self.Power_() if self.power is None else power\n",
    "            self.delta=self.Delta_() if self.delta is None else delta\n",
    "            self.alpha=self.Alpha_() if self.alpha is None else alpha\n",
    "            self.sd=self.SD_() if self.sd is None else sd\n",
    "            self.params={'n': int(np.ceil(self.n)), 'delta': round(self.delta,4), 'alpha': round(self.alpha,4), 'power': round(self.power,4), 'sd': round(self.sd, 4), 'two-sided experiment': self.two_sided}\n",
    "\n",
    "    #def params_(self):\n",
    "         # method which returns the parameters and arguments of the class\n",
    "     #    return \"n: {}, delta: {}, alpha: {}, power: {}, standard deviation: {}, two-sided experiment: {}\".format(self.n,  self.delta, self.alpha, self.power, self.sd, self.two_sided)\n",
    "     \n",
    "    def Sample_Size_(self)-> int:\n",
    "         # method that returns the minimal sample size of one group given other arguments\n",
    "\n",
    "        n=2*self.sd**2 * (self.z_score_a + self.z_score_b)**2 / (self.delta)**2\n",
    "        return n\n",
    "    \n",
    "    def Power_(self)-> float:\n",
    "        # method that returns the power of the test given other arguments\n",
    "\n",
    "        self.z_score_b = np.sqrt((self.n * (self.delta)**2)/(2*self.sd**2)) - self.z_score_a \n",
    "        power = norm.cdf(self.z_score_b)\n",
    "        return power\n",
    "    \n",
    "    def Alpha_(self)-> float:\n",
    "        # method that returns the probability of type 1 error (p_value) of the test given other arguments\n",
    "\n",
    "        self.z_score_a= np.sqrt((self.n * (self.delta)**2)/(2*self.sd**2)) - self.z_score_b\n",
    "        alpha=self.alpha=(1-norm.cdf(self.z_score_a)) * (1 if self.two_sided==False else 2)\n",
    "        return alpha\n",
    "\n",
    "    def Delta_(self)-> float:\n",
    "        # method that returns the delta of the test given other arguments\n",
    "\n",
    "        delta = np.sqrt((2*self.sd**2 * (self.z_score_a + self.z_score_b)**2)/self.n)\n",
    "        return delta\n",
    "    \n",
    "    def SD_(self)-> float:\n",
    "        # method that returns the standard deviation of the test given other arguments\n",
    "\n",
    "        sd = np.sqrt(self.n * (self.delta)**2/(2* (self.z_score_a + self.z_score_b)**2))\n",
    "        return sd\n",
    "     \n",
    "\n",
    "\n",
    "class Binomial(): \n",
    "\n",
    "    def __init__(self, n=None, p1=None, delta=None, alpha=None, power=None, two_sided=True):\n",
    " \n",
    "        # method that initializes the instance of the Binomial class\n",
    "        \"\"\" n - minimal sample size for one group\n",
    "        p - probability of success in control group\n",
    "        delta - effect size \n",
    "        alpha - significance level (Type I error)\n",
    "        power - power of the test while 0.8 being the default  (1 minus Type II error)\n",
    "        tails - default two sided test \n",
    "        \"\"\"\n",
    "\n",
    "        if sum([p1 is None, n is None, delta is None, alpha is None, power is None])!=1:\n",
    "            raise Exception(\"One and only one of the parameters n, delta, alpha, power must be None\")\n",
    "        elif np.abs(any([alpha, power]))>1:\n",
    "            raise ValueError(\"any of the arguments alpha, power must be within range 0-1\")\n",
    "        elif delta is not None and np.abs(delta)>1:\n",
    "            raise ValueError(\"delta must be within range 0-1\") \n",
    "        else:\n",
    "            self.p1=p1\n",
    "            self.delta=delta\n",
    "            self.power=power\n",
    "            self.alpha=alpha\n",
    "            self.two_sided = two_sided\n",
    "            self.p2=self.p1 + self.delta if self.delta is not None and self.p1 is not None else None\n",
    "            self.z_score_a=norm.ppf(1-self.alpha/(1 if self.two_sided==False else 2)) if alpha is not None else None\n",
    "            self.z_score_b=norm.ppf(self.power) if power is not None else None\n",
    "\n",
    "            # sample size attribute will be the floor of the provided argument (integer of sample available) or the ceiling of the calculated value (based on other parameters).\n",
    "            self.n=self.Sample_Size() if n is None else np.floor(n)\n",
    "            self.p1=self.Probability_Control() if p1 is None else p1\n",
    "            self.power=self.Power() if self.power is None else power\n",
    "            self.delta=self.Delta() if self.delta is None else delta\n",
    "            self.alpha=self.Alpha() if self.alpha is None else alpha\n",
    "            self.params={\"n\": int(np.ceil(self.n)), \"p1\": self.p1, \"delta\": self.delta, \"alpha\": self.alpha, \"power\": self.power, \"two-sided experiment\": self.two_sided}\n",
    "     \n",
    "\n",
    "    def Sample_Size(self)-> int:\n",
    "         # method that returns the minimal sample size of one group given other arguments\n",
    "        n=(self.z_score_a * np.sqrt((self.p1+self.p2)*(1-self.p1 + 1-self.p2)/2) + self.z_score_b*np.sqrt((self.p1*(1-self.p1)) + (self.p2 * (1-self.p2))))**2/self.delta**2\n",
    "\n",
    "        # http://meteo.edu.vn/GiaoTrinhXS/e-book/PQ220-6234F.Ch-10.pdf\n",
    "        return n\n",
    "    \n",
    "    def Probability_Control(self)-> float:\n",
    "        # method that returns the probability of success in control group\n",
    "        warnings.filterwarnings(\"ignore\", category = RuntimeWarning)\n",
    "        def func(p1):\n",
    "            return (self.z_score_a * np.sqrt((2*p1+self.delta)*(1-p1 + 1-p1-self.delta)/2) + self.z_score_b*np.sqrt((p1*(1-p1)) + ((p1+self.delta) * (1-p1-self.delta))))**2/self.delta**2 - self.n\n",
    "        p1=round(optimize.bisect(func, a=0, b=1), 2)\n",
    "        warnings.filterwarnings(\"always\", category = RuntimeWarning)\n",
    "        return p1\n",
    "\n",
    "    def Power(self)-> float:\n",
    "        # method that returns the power of the test given other arguments\n",
    "        self.z_score_b=(np.sqrt(self.n * self.delta**2) - self.z_score_a * np.sqrt((self.p1+self.p2)*(1-self.p1 + 1-self.p2)/2))* 1/np.sqrt((self.p1*(1-self.p1)) + (self.p2 * (1-self.p2))) \n",
    "        power=norm.cdf(self.z_score_b)\n",
    "        return power\n",
    "    \n",
    "    def Alpha(self)-> float:\n",
    "        # method that returns the probability of type 1 error (p_value) of the test given other arguments\n",
    "        self.z_score_a=(np.sqrt(self.n * self.delta**2)-self.z_score_b*np.sqrt((self.p1*(1-self.p1)) + (self.p2 * (1-self.p2))))/np.sqrt((self.p1+self.p2)*(1-self.p1 + 1-self.p2)/2) \n",
    "        alpha=self.alpha=(1-norm.cdf(self.z_score_a)) * (1 if self.two_sided==False else 2)\n",
    "        return alpha\n",
    "\n",
    "    def Delta(self)-> float:\n",
    "        # method that returns the delta of the test given other arguments\n",
    "        warnings.filterwarnings(\"ignore\", category = RuntimeWarning)\n",
    "        def func(delta):\n",
    "            return (self.z_score_a * np.sqrt((2*self.p1+delta)*(1-self.p1 + 1-self.p1-delta)/2) + self.z_score_b*np.sqrt((self.p1*(1-self.p1)) + ((self.p1+delta) * (1-self.p1-delta))))**2/delta**2 - self.n\n",
    "        delta=round(optimize.bisect(func, a=0, b=1), 4)\n",
    "        warnings.filterwarnings(\"always\", category = RuntimeWarning)\n",
    "        return delta\n",
    "\n",
    "\n",
    "class ab_testing(Binomial,Gaussian):\n",
    "\n",
    "    def __init__(self, data=None, metric=None, distribution=None ,date_column=None, experiment_unit_column=None, n=None, p1=None, delta=None, alpha=None, power=None, sd=None ,two_sided=True, num_variants=2):\n",
    "        \n",
    "        self.data=data\n",
    "        self.num_variants=num_variants\n",
    "        if num_variants>2:\n",
    "            self.number_comparisons=np.prod([i for i in np.arange(num_variants+1)[2:]])/(2*np.prod([i for i in np.arange(num_variants+1-2)[1:]]))\n",
    "            alpha=alpha/self.number_comparisons if alpha is not None else None\n",
    "        \n",
    "        if distribution in [\"Binomial\", \"Gaussian\", \"Normal\"]:\n",
    "            self.distribution=distribution\n",
    "        else: \n",
    "            raise ValueError('Distribution must be \"Binomial\" , \"Gaussian\" or \"Normal\"')\n",
    "        if data is not None:\n",
    "            \n",
    "            self.metric=metric\n",
    "            self.date_column=date_column\n",
    "            self.experiment_unit_column=experiment_unit_column\n",
    "            if distribution=='Binomial':\n",
    "                self.p1=self.data[self.metric].mean()\n",
    "            else:\n",
    "                self.sd=np.std(self.data[self.metric].values, ddof=1)\n",
    "                \n",
    "            self.alpha=alpha\n",
    "            self.power=power\n",
    "            self.two_sided=two_sided\n",
    "            \n",
    "        else:\n",
    "            if distribution=='Binomial':\n",
    "                Binomial.__init__(self, n, p1, delta, alpha, power, two_sided)\n",
    "            elif distribution in ('Normal','Gaussian'):\n",
    "                Gaussian.__init__(self, n, delta, alpha, power, sd,  two_sided)\n",
    "\n",
    "    def __str__(self):\n",
    "        # method which returns the parameters and arguments of the ab-testing instance\n",
    "         if self.data is None:\n",
    "            self.params['distribution']=self.distribution\n",
    "            if self.num_variants>2:\n",
    "                self.params['number of variants']=self.num_variants\n",
    "                self.params['alpha']=self.alpha #* self.number_comparisons\n",
    "                self.params['correction']='Bonferroni correction to family wise alpha was applied for every pairwise comparison'\n",
    "            return pprint.pformat(width=100, object=self.params, sort_dicts=False)\n",
    "         else:\n",
    "            self.params={}\n",
    "    \n",
    "            \n",
    "       \n",
    "        \n",
    "         \n",
    "         \n",
    "\n",
    "# method which returns the Minimal Detectable Effect experiment time estimation for an array of effect values.\n",
    "\n",
    "    def MDE(self, events_per_time_unit_and_variant=None ,minimal_effect=None, maximal_effect=None, effect_step=None, two_sided=True, plot=False, save_path=None, **plot_kwargs):\n",
    "        # produces an array of delta values\n",
    "        if not all([minimal_effect,maximal_effect,effect_step]):\n",
    "            raise ValueError('The values of minimal_effect, maximal_effect, effect_step cannot be None')\n",
    "        #array of effect size values\n",
    "        effect_magnitudes=np.arange(minimal_effect,maximal_effect + effect_step ,effect_step)\n",
    "        #list of experiment days needed for corresponding effect\n",
    "        days=[]\n",
    "        sizes=[]\n",
    "\n",
    "        if self.data is not None:\n",
    "\n",
    "            #calculates number of time units present in the dataset\n",
    "            self.length_input_data = self.data[self.date_column].nunique()\n",
    "            #calculates the floor of events per time unit\n",
    "            self.events_per_time_unit_and_variant=np.floor(len(self.data[(self.data)[self.metric].notnull()])/self.length_input_data/self.num_variants)\n",
    "            #the metric of interest base value\n",
    "            pre_experiment_value=self.data[self.metric].mean()\n",
    "            \n",
    "        else:\n",
    "            if events_per_time_unit_and_variant is None:\n",
    "                raise ValueError('if data with temporal dimension is not provided, number of events per time unit and variant must be specified')\n",
    "                \n",
    "            else:\n",
    "                self.events_per_time_unit_and_variant=events_per_time_unit_and_variant\n",
    "            \n",
    "        \n",
    "        for i in effect_magnitudes:\n",
    "            self.delta=i\n",
    "            \n",
    "            if self.distribution in ('Binomial'):\n",
    "                \n",
    "                self.p1=self.p1 if self.p1 is not None else pre_experiment_value\n",
    "                self.p2=self.p1 + self.delta\n",
    "                Binomial.__init__(self, n=None , p1=self.p1 , delta=self.delta, alpha=self.alpha, power=self.power, two_sided=self.two_sided)\n",
    "                n=self.n\n",
    "            else:\n",
    "                Gaussian.__init__(self, n=None , sd=self.sd , delta=self.delta, alpha=self.alpha, power=self.power, two_sided=self.two_sided)\n",
    "                n=self.n\n",
    "            sizes.append(int(np.ceil(n)))\n",
    "            days.append(int(np.ceil(n/self.events_per_time_unit_and_variant)))\n",
    "\n",
    "        results=pd.DataFrame({'effect':effect_magnitudes,'sample size per group':sizes ,'length of experiment':days})\n",
    "        self.delta=effect_magnitudes\n",
    "        self.n=sizes\n",
    "        self.experiment_length=days\n",
    "        \n",
    "        if not plot: \n",
    "            self.mde=results\n",
    "            return self.mde\n",
    "        else: \n",
    "            self.mde=self.Plot_MDE(save_path, results, **plot_kwargs)\n",
    "            return self.mde\n",
    "    \n",
    "    def Plot_MDE(self, save_path=None ,results=None, figsize=(10,5), title='MDE', marker='o', ls='-',annot=True, **plot_kwargs):\n",
    "\n",
    "        fig=plt.figure(figsize=figsize)\n",
    "        ax=plt.axes()\n",
    "        ax.grid(visible=True, linewidth=2)\n",
    "        ax.set_title(title)\n",
    "        ax.set_xlabel('Length of Experiment')\n",
    "        ax.set_ylabel(u'Effect Δ')\n",
    "        ax.plot(results['length of experiment'].values, results['effect'].values, marker=marker, ls=ls, **plot_kwargs)\n",
    "        if annot==True:\n",
    "            for i in range(len(results)):\n",
    "                plt.annotate(xy=(results['length of experiment'].values[i]+results['length of experiment'].min(), results['effect'].values[i]), text=results['length of experiment'].values[i])\n",
    "        fig=ax.figure\n",
    "        if save_path is not None:\n",
    "            fig.savefig(save_path)\n",
    "        else:\n",
    "            plt.close()\n",
    "            return fig\n",
    "       \n",
    "\n"
   ]
  },
  {
   "cell_type": "code",
   "execution_count": 213,
   "id": "0ee7d9f2",
   "metadata": {
    "ExecuteTime": {
     "end_time": "2023-07-30T20:17:57.858351Z",
     "start_time": "2023-07-30T20:17:57.846335Z"
    }
   },
   "outputs": [
    {
     "data": {
      "text/plain": [
       "{'n': 14128,\n",
       " 'delta': 0.02,\n",
       " 'alpha': 0.05,\n",
       " 'power': 0.8,\n",
       " 'sd': 0.6,\n",
       " 'two-sided experiment': True}"
      ]
     },
     "execution_count": 213,
     "metadata": {},
     "output_type": "execute_result"
    }
   ],
   "source": [
    "#Obteniendo la deviación estandar\n",
    "\n",
    "Gaussian(n=14128, delta=0.02, alpha=0.05 ,power=0.8, two_sided=True).params\n"
   ]
  },
  {
   "cell_type": "code",
   "execution_count": 214,
   "id": "442de255",
   "metadata": {
    "ExecuteTime": {
     "end_time": "2023-07-30T20:17:58.152560Z",
     "start_time": "2023-07-30T20:17:58.133547Z"
    }
   },
   "outputs": [
    {
     "data": {
      "text/plain": [
       "{'n': 14128,\n",
       " 'delta': 0.02,\n",
       " 'alpha': 0.05,\n",
       " 'power': 0.8,\n",
       " 'sd': 0.6,\n",
       " 'two-sided experiment': True}"
      ]
     },
     "execution_count": 214,
     "metadata": {},
     "output_type": "execute_result"
    }
   ],
   "source": [
    "#obteniendo alpha (nivel de significado del test)\n",
    "\n",
    "Gaussian(n=14128, delta=0.02 ,power=0.8, sd=0.6, two_sided=True).params"
   ]
  },
  {
   "cell_type": "code",
   "execution_count": 215,
   "id": "22aedf58",
   "metadata": {
    "ExecuteTime": {
     "end_time": "2023-07-30T20:17:58.370360Z",
     "start_time": "2023-07-30T20:17:58.360345Z"
    }
   },
   "outputs": [
    {
     "data": {
      "text/plain": [
       "{'n': 14128,\n",
       " 'delta': 0.02,\n",
       " 'alpha': 0.05,\n",
       " 'power': 0.8,\n",
       " 'sd': 0.6,\n",
       " 'two-sided experiment': True}"
      ]
     },
     "execution_count": 215,
     "metadata": {},
     "output_type": "execute_result"
    }
   ],
   "source": [
    "#obteniendo power (potencia del test)\n",
    "\n",
    "Gaussian(n=14128, delta=0.02,  alpha=0.05 ,sd=0.6, two_sided=True).params"
   ]
  },
  {
   "cell_type": "code",
   "execution_count": 216,
   "id": "cac4aa03",
   "metadata": {
    "ExecuteTime": {
     "end_time": "2023-07-30T20:17:58.635620Z",
     "start_time": "2023-07-30T20:17:58.618628Z"
    }
   },
   "outputs": [
    {
     "data": {
      "text/plain": [
       "{'n': 6280,\n",
       " 'delta': 0.01,\n",
       " 'alpha': 0.05,\n",
       " 'power': 0.8,\n",
       " 'sd': 0.2,\n",
       " 'two-sided experiment': True}"
      ]
     },
     "execution_count": 216,
     "metadata": {},
     "output_type": "execute_result"
    }
   ],
   "source": [
    "Gaussian(delta=0.01, alpha=0.05, power=0.8, two_sided=True, sd=0.2).params"
   ]
  },
  {
   "cell_type": "code",
   "execution_count": 217,
   "id": "edfd892b",
   "metadata": {
    "ExecuteTime": {
     "end_time": "2023-07-30T20:17:58.887255Z",
     "start_time": "2023-07-30T20:17:58.874234Z"
    }
   },
   "outputs": [
    {
     "data": {
      "text/plain": [
       "{'n': 25583,\n",
       " 'p1': 0.2,\n",
       " 'delta': 0.01,\n",
       " 'alpha': 0.05,\n",
       " 'power': 0.8,\n",
       " 'two-sided experiment': True}"
      ]
     },
     "execution_count": 217,
     "metadata": {},
     "output_type": "execute_result"
    }
   ],
   "source": [
    "Binomial(p1=0.2, delta=0.01, alpha=0.05, power=0.8, two_sided=True).params"
   ]
  },
  {
   "cell_type": "code",
   "execution_count": 218,
   "id": "5f637759",
   "metadata": {
    "ExecuteTime": {
     "end_time": "2023-07-30T20:17:59.199573Z",
     "start_time": "2023-07-30T20:17:59.188571Z"
    }
   },
   "outputs": [
    {
     "data": {
      "text/plain": [
       "0.8000115815425612"
      ]
     },
     "execution_count": 218,
     "metadata": {},
     "output_type": "execute_result"
    }
   ],
   "source": [
    "a=Binomial(n=25583, p1=0.2, delta=0.01, alpha=0.05, two_sided=True)\n",
    "\n",
    "a.power"
   ]
  },
  {
   "cell_type": "code",
   "execution_count": 224,
   "id": "6130ba59",
   "metadata": {
    "ExecuteTime": {
     "end_time": "2023-07-30T20:20:11.670553Z",
     "start_time": "2023-07-30T20:20:11.654555Z"
    }
   },
   "outputs": [
    {
     "name": "stdout",
     "output_type": "stream",
     "text": [
      "{'n': 39470,\n",
      " 'p1': 0.2,\n",
      " 'delta': 0.01,\n",
      " 'alpha': 0.008333333333333333,\n",
      " 'power': 0.8,\n",
      " 'two-sided experiment': True,\n",
      " 'distribution': 'Binomial',\n",
      " 'number of variants': 4,\n",
      " 'correction': 'Bonferroni correction to family wise alpha was applied for every pairwise '\n",
      "               'comparison'}\n"
     ]
    }
   ],
   "source": [
    "print(ab_testing(delta=0.01, p1=0.2, alpha=0.05, power=0.8, two_sided=True, distribution='Binomial', num_variants=4))"
   ]
  },
  {
   "cell_type": "code",
   "execution_count": 220,
   "id": "e3cf544e",
   "metadata": {
    "ExecuteTime": {
     "end_time": "2023-07-30T20:18:12.312565Z",
     "start_time": "2023-07-30T20:18:12.199542Z"
    }
   },
   "outputs": [
    {
     "data": {
      "image/png": "[encoded data removed]",
      "text/plain": [
       "<Figure size 720x360 with 1 Axes>"
      ]
     },
     "execution_count": 220,
     "metadata": {},
     "output_type": "execute_result"
    }
   ],
   "source": [
    "ab_testing(n=25583, p1=0.2, alpha=0.05, power=0.8, two_sided=True, distribution='Binomial',num_variants=2 ).MDE(minimal_effect=0.01, maximal_effect=0.1, effect_step=0.01, events_per_time_unit_and_variant=15, plot=True)"
   ]
  },
  {
   "cell_type": "code",
   "execution_count": 9,
   "id": "7204afe5",
   "metadata": {
    "ExecuteTime": {
     "end_time": "2023-07-22T21:56:31.856737Z",
     "start_time": "2023-07-22T21:56:31.795691Z"
    }
   },
   "outputs": [],
   "source": [
    "cats=pd.read_csv('C:/Users/gshoc/OneDrive/Documentos/MASTER/TFM/Cookie Cats/cookie_cats.csv')"
   ]
  },
  {
   "cell_type": "code",
   "execution_count": 10,
   "id": "73d5e248",
   "metadata": {
    "ExecuteTime": {
     "end_time": "2023-07-22T21:56:32.122205Z",
     "start_time": "2023-07-22T21:56:32.105196Z"
    }
   },
   "outputs": [
    {
     "data": {
      "text/html": [
       "<div>\n",
       "<style scoped>\n",
       "    .dataframe tbody tr th:only-of-type {\n",
       "        vertical-align: middle;\n",
       "    }\n",
       "\n",
       "    .dataframe tbody tr th {\n",
       "        vertical-align: top;\n",
       "    }\n",
       "\n",
       "    .dataframe thead th {\n",
       "        text-align: right;\n",
       "    }\n",
       "</style>\n",
       "<table border=\"1\" class=\"dataframe\">\n",
       "  <thead>\n",
       "    <tr style=\"text-align: right;\">\n",
       "      <th></th>\n",
       "      <th>userid</th>\n",
       "      <th>version</th>\n",
       "      <th>sum_gamerounds</th>\n",
       "      <th>retention_1</th>\n",
       "      <th>retention_7</th>\n",
       "    </tr>\n",
       "  </thead>\n",
       "  <tbody>\n",
       "    <tr>\n",
       "      <th>0</th>\n",
       "      <td>116</td>\n",
       "      <td>gate_30</td>\n",
       "      <td>3</td>\n",
       "      <td>False</td>\n",
       "      <td>False</td>\n",
       "    </tr>\n",
       "    <tr>\n",
       "      <th>1</th>\n",
       "      <td>337</td>\n",
       "      <td>gate_30</td>\n",
       "      <td>38</td>\n",
       "      <td>True</td>\n",
       "      <td>False</td>\n",
       "    </tr>\n",
       "    <tr>\n",
       "      <th>2</th>\n",
       "      <td>377</td>\n",
       "      <td>gate_40</td>\n",
       "      <td>165</td>\n",
       "      <td>True</td>\n",
       "      <td>False</td>\n",
       "    </tr>\n",
       "    <tr>\n",
       "      <th>3</th>\n",
       "      <td>483</td>\n",
       "      <td>gate_40</td>\n",
       "      <td>1</td>\n",
       "      <td>False</td>\n",
       "      <td>False</td>\n",
       "    </tr>\n",
       "    <tr>\n",
       "      <th>4</th>\n",
       "      <td>488</td>\n",
       "      <td>gate_40</td>\n",
       "      <td>179</td>\n",
       "      <td>True</td>\n",
       "      <td>True</td>\n",
       "    </tr>\n",
       "    <tr>\n",
       "      <th>5</th>\n",
       "      <td>540</td>\n",
       "      <td>gate_40</td>\n",
       "      <td>187</td>\n",
       "      <td>True</td>\n",
       "      <td>True</td>\n",
       "    </tr>\n",
       "  </tbody>\n",
       "</table>\n",
       "</div>"
      ],
      "text/plain": [
       "   userid  version  sum_gamerounds  retention_1  retention_7\n",
       "0     116  gate_30               3        False        False\n",
       "1     337  gate_30              38         True        False\n",
       "2     377  gate_40             165         True        False\n",
       "3     483  gate_40               1        False        False\n",
       "4     488  gate_40             179         True         True\n",
       "5     540  gate_40             187         True         True"
      ]
     },
     "execution_count": 10,
     "metadata": {},
     "output_type": "execute_result"
    }
   ],
   "source": [
    "cats.head(6)"
   ]
  },
  {
   "cell_type": "code",
   "execution_count": null,
   "id": "5d4c81c6",
   "metadata": {},
   "outputs": [],
   "source": []
  },
  {
   "cell_type": "code",
   "execution_count": 11,
   "id": "fd6d2d57",
   "metadata": {
    "ExecuteTime": {
     "end_time": "2023-07-22T21:56:32.825062Z",
     "start_time": "2023-07-22T21:56:32.815074Z"
    }
   },
   "outputs": [],
   "source": [
    "cats[['retention_1','retention_7']]=np.where(cats[['retention_1','retention_7']]==True, 1,0)"
   ]
  },
  {
   "cell_type": "code",
   "execution_count": 12,
   "id": "efa71022",
   "metadata": {
    "ExecuteTime": {
     "end_time": "2023-07-22T21:56:33.591229Z",
     "start_time": "2023-07-22T21:56:33.575230Z"
    }
   },
   "outputs": [],
   "source": [
    "cats=cats[cats.version=='gate_30'].drop('version', axis=1)"
   ]
  },
  {
   "cell_type": "code",
   "execution_count": 13,
   "id": "ae673766",
   "metadata": {
    "ExecuteTime": {
     "end_time": "2023-07-22T21:56:34.170249Z",
     "start_time": "2023-07-22T21:56:33.990590Z"
    }
   },
   "outputs": [],
   "source": [
    "startdate=datetime.date(year=2023,month=5,day=1)\n",
    "\n",
    "cats['day']=[startdate+datetime.timedelta(np.random.randint(1,31)) for i in range(len(cats))]\n",
    "\n"
   ]
  },
  {
   "cell_type": "code",
   "execution_count": 14,
   "id": "7ac8f8ed",
   "metadata": {
    "ExecuteTime": {
     "end_time": "2023-07-22T21:56:34.433259Z",
     "start_time": "2023-07-22T21:56:34.406253Z"
    }
   },
   "outputs": [
    {
     "data": {
      "text/html": [
       "<div>\n",
       "<style scoped>\n",
       "    .dataframe tbody tr th:only-of-type {\n",
       "        vertical-align: middle;\n",
       "    }\n",
       "\n",
       "    .dataframe tbody tr th {\n",
       "        vertical-align: top;\n",
       "    }\n",
       "\n",
       "    .dataframe thead th {\n",
       "        text-align: right;\n",
       "    }\n",
       "</style>\n",
       "<table border=\"1\" class=\"dataframe\">\n",
       "  <thead>\n",
       "    <tr style=\"text-align: right;\">\n",
       "      <th></th>\n",
       "      <th>effect</th>\n",
       "      <th>sample size per group</th>\n",
       "      <th>length of experiment</th>\n",
       "    </tr>\n",
       "  </thead>\n",
       "  <tbody>\n",
       "    <tr>\n",
       "      <th>0</th>\n",
       "      <td>0.01</td>\n",
       "      <td>38900</td>\n",
       "      <td>53</td>\n",
       "    </tr>\n",
       "    <tr>\n",
       "      <th>1</th>\n",
       "      <td>0.02</td>\n",
       "      <td>9742</td>\n",
       "      <td>14</td>\n",
       "    </tr>\n",
       "    <tr>\n",
       "      <th>2</th>\n",
       "      <td>0.03</td>\n",
       "      <td>4336</td>\n",
       "      <td>6</td>\n",
       "    </tr>\n",
       "    <tr>\n",
       "      <th>3</th>\n",
       "      <td>0.04</td>\n",
       "      <td>2442</td>\n",
       "      <td>4</td>\n",
       "    </tr>\n",
       "    <tr>\n",
       "      <th>4</th>\n",
       "      <td>0.05</td>\n",
       "      <td>1565</td>\n",
       "      <td>3</td>\n",
       "    </tr>\n",
       "    <tr>\n",
       "      <th>5</th>\n",
       "      <td>0.06</td>\n",
       "      <td>1087</td>\n",
       "      <td>2</td>\n",
       "    </tr>\n",
       "    <tr>\n",
       "      <th>6</th>\n",
       "      <td>0.07</td>\n",
       "      <td>799</td>\n",
       "      <td>2</td>\n",
       "    </tr>\n",
       "    <tr>\n",
       "      <th>7</th>\n",
       "      <td>0.08</td>\n",
       "      <td>612</td>\n",
       "      <td>1</td>\n",
       "    </tr>\n",
       "    <tr>\n",
       "      <th>8</th>\n",
       "      <td>0.09</td>\n",
       "      <td>484</td>\n",
       "      <td>1</td>\n",
       "    </tr>\n",
       "    <tr>\n",
       "      <th>9</th>\n",
       "      <td>0.10</td>\n",
       "      <td>392</td>\n",
       "      <td>1</td>\n",
       "    </tr>\n",
       "  </tbody>\n",
       "</table>\n",
       "</div>"
      ],
      "text/plain": [
       "   effect  sample size per group  length of experiment\n",
       "0    0.01                  38900                    53\n",
       "1    0.02                   9742                    14\n",
       "2    0.03                   4336                     6\n",
       "3    0.04                   2442                     4\n",
       "4    0.05                   1565                     3\n",
       "5    0.06                   1087                     2\n",
       "6    0.07                    799                     2\n",
       "7    0.08                    612                     1\n",
       "8    0.09                    484                     1\n",
       "9    0.10                    392                     1"
      ]
     },
     "execution_count": 14,
     "metadata": {},
     "output_type": "execute_result"
    }
   ],
   "source": [
    "ab_testing(data=cats, distribution='Binomial', date_column='day', experiment_unit_column='userid', metric='retention_1', alpha=0.05, power=0.8, two_sided=True).MDE(minimal_effect=0.01, maximal_effect=0.1, effect_step=0.01) "
   ]
  },
  {
   "cell_type": "code",
   "execution_count": 15,
   "id": "1e0a93fa",
   "metadata": {
    "ExecuteTime": {
     "end_time": "2023-07-22T21:56:37.587158Z",
     "start_time": "2023-07-22T21:56:37.564151Z"
    }
   },
   "outputs": [
    {
     "data": {
      "text/html": [
       "<div>\n",
       "<style scoped>\n",
       "    .dataframe tbody tr th:only-of-type {\n",
       "        vertical-align: middle;\n",
       "    }\n",
       "\n",
       "    .dataframe tbody tr th {\n",
       "        vertical-align: top;\n",
       "    }\n",
       "\n",
       "    .dataframe thead th {\n",
       "        text-align: right;\n",
       "    }\n",
       "</style>\n",
       "<table border=\"1\" class=\"dataframe\">\n",
       "  <thead>\n",
       "    <tr style=\"text-align: right;\">\n",
       "      <th></th>\n",
       "      <th>effect</th>\n",
       "      <th>sample size per group</th>\n",
       "      <th>length of experiment</th>\n",
       "    </tr>\n",
       "  </thead>\n",
       "  <tbody>\n",
       "    <tr>\n",
       "      <th>0</th>\n",
       "      <td>0.01</td>\n",
       "      <td>38824</td>\n",
       "      <td>53</td>\n",
       "    </tr>\n",
       "    <tr>\n",
       "      <th>1</th>\n",
       "      <td>0.02</td>\n",
       "      <td>9706</td>\n",
       "      <td>14</td>\n",
       "    </tr>\n",
       "    <tr>\n",
       "      <th>2</th>\n",
       "      <td>0.03</td>\n",
       "      <td>4314</td>\n",
       "      <td>6</td>\n",
       "    </tr>\n",
       "    <tr>\n",
       "      <th>3</th>\n",
       "      <td>0.04</td>\n",
       "      <td>2427</td>\n",
       "      <td>4</td>\n",
       "    </tr>\n",
       "    <tr>\n",
       "      <th>4</th>\n",
       "      <td>0.05</td>\n",
       "      <td>1553</td>\n",
       "      <td>3</td>\n",
       "    </tr>\n",
       "    <tr>\n",
       "      <th>5</th>\n",
       "      <td>0.06</td>\n",
       "      <td>1079</td>\n",
       "      <td>2</td>\n",
       "    </tr>\n",
       "    <tr>\n",
       "      <th>6</th>\n",
       "      <td>0.07</td>\n",
       "      <td>793</td>\n",
       "      <td>2</td>\n",
       "    </tr>\n",
       "    <tr>\n",
       "      <th>7</th>\n",
       "      <td>0.08</td>\n",
       "      <td>607</td>\n",
       "      <td>1</td>\n",
       "    </tr>\n",
       "    <tr>\n",
       "      <th>8</th>\n",
       "      <td>0.09</td>\n",
       "      <td>480</td>\n",
       "      <td>1</td>\n",
       "    </tr>\n",
       "    <tr>\n",
       "      <th>9</th>\n",
       "      <td>0.10</td>\n",
       "      <td>389</td>\n",
       "      <td>1</td>\n",
       "    </tr>\n",
       "  </tbody>\n",
       "</table>\n",
       "</div>"
      ],
      "text/plain": [
       "   effect  sample size per group  length of experiment\n",
       "0    0.01                  38824                    53\n",
       "1    0.02                   9706                    14\n",
       "2    0.03                   4314                     6\n",
       "3    0.04                   2427                     4\n",
       "4    0.05                   1553                     3\n",
       "5    0.06                   1079                     2\n",
       "6    0.07                    793                     2\n",
       "7    0.08                    607                     1\n",
       "8    0.09                    480                     1\n",
       "9    0.10                    389                     1"
      ]
     },
     "execution_count": 15,
     "metadata": {},
     "output_type": "execute_result"
    }
   ],
   "source": [
    "ab_testing(data=cats, distribution='Gaussian', date_column='day', experiment_unit_column='userid', metric='retention_1', alpha=0.05, power=0.8, two_sided=True).MDE(minimal_effect=0.01, maximal_effect=0.1, effect_step=0.01) "
   ]
  },
  {
   "cell_type": "code",
   "execution_count": 16,
   "id": "d73a93cc",
   "metadata": {
    "ExecuteTime": {
     "end_time": "2023-07-22T21:56:37.962156Z",
     "start_time": "2023-07-22T21:56:37.937140Z"
    }
   },
   "outputs": [
    {
     "data": {
      "text/html": [
       "<div>\n",
       "<style scoped>\n",
       "    .dataframe tbody tr th:only-of-type {\n",
       "        vertical-align: middle;\n",
       "    }\n",
       "\n",
       "    .dataframe tbody tr th {\n",
       "        vertical-align: top;\n",
       "    }\n",
       "\n",
       "    .dataframe thead th {\n",
       "        text-align: right;\n",
       "    }\n",
       "</style>\n",
       "<table border=\"1\" class=\"dataframe\">\n",
       "  <thead>\n",
       "    <tr style=\"text-align: right;\">\n",
       "      <th></th>\n",
       "      <th>effect</th>\n",
       "      <th>sample size per group</th>\n",
       "      <th>length of experiment</th>\n",
       "    </tr>\n",
       "  </thead>\n",
       "  <tbody>\n",
       "    <tr>\n",
       "      <th>0</th>\n",
       "      <td>0.01</td>\n",
       "      <td>25583</td>\n",
       "      <td>427</td>\n",
       "    </tr>\n",
       "    <tr>\n",
       "      <th>1</th>\n",
       "      <td>0.02</td>\n",
       "      <td>6510</td>\n",
       "      <td>109</td>\n",
       "    </tr>\n",
       "    <tr>\n",
       "      <th>2</th>\n",
       "      <td>0.03</td>\n",
       "      <td>2943</td>\n",
       "      <td>50</td>\n",
       "    </tr>\n",
       "    <tr>\n",
       "      <th>3</th>\n",
       "      <td>0.04</td>\n",
       "      <td>1683</td>\n",
       "      <td>29</td>\n",
       "    </tr>\n",
       "    <tr>\n",
       "      <th>4</th>\n",
       "      <td>0.05</td>\n",
       "      <td>1094</td>\n",
       "      <td>19</td>\n",
       "    </tr>\n",
       "    <tr>\n",
       "      <th>5</th>\n",
       "      <td>0.06</td>\n",
       "      <td>772</td>\n",
       "      <td>13</td>\n",
       "    </tr>\n",
       "    <tr>\n",
       "      <th>6</th>\n",
       "      <td>0.07</td>\n",
       "      <td>575</td>\n",
       "      <td>10</td>\n",
       "    </tr>\n",
       "    <tr>\n",
       "      <th>7</th>\n",
       "      <td>0.08</td>\n",
       "      <td>447</td>\n",
       "      <td>8</td>\n",
       "    </tr>\n",
       "    <tr>\n",
       "      <th>8</th>\n",
       "      <td>0.09</td>\n",
       "      <td>358</td>\n",
       "      <td>6</td>\n",
       "    </tr>\n",
       "    <tr>\n",
       "      <th>9</th>\n",
       "      <td>0.10</td>\n",
       "      <td>294</td>\n",
       "      <td>5</td>\n",
       "    </tr>\n",
       "  </tbody>\n",
       "</table>\n",
       "</div>"
      ],
      "text/plain": [
       "   effect  sample size per group  length of experiment\n",
       "0    0.01                  25583                   427\n",
       "1    0.02                   6510                   109\n",
       "2    0.03                   2943                    50\n",
       "3    0.04                   1683                    29\n",
       "4    0.05                   1094                    19\n",
       "5    0.06                    772                    13\n",
       "6    0.07                    575                    10\n",
       "7    0.08                    447                     8\n",
       "8    0.09                    358                     6\n",
       "9    0.10                    294                     5"
      ]
     },
     "execution_count": 16,
     "metadata": {},
     "output_type": "execute_result"
    }
   ],
   "source": [
    "experiment=ab_testing(p1=0.2, n=25583, alpha=0.05, power=0.8 ,two_sided=True, distribution='Binomial')\n",
    "\n",
    "experiment.MDE(minimal_effect=0.01, maximal_effect=0.1, effect_step=0.01, events_per_time_unit_and_variant=60)"
   ]
  },
  {
   "cell_type": "code",
   "execution_count": 17,
   "id": "052df220",
   "metadata": {
    "ExecuteTime": {
     "end_time": "2023-07-22T21:56:38.464471Z",
     "start_time": "2023-07-22T21:56:38.352447Z"
    }
   },
   "outputs": [
    {
     "data": {
      "image/png": "[encoded data removed]",
      "text/plain": [
       "<Figure size 720x360 with 1 Axes>"
      ]
     },
     "execution_count": 17,
     "metadata": {},
     "output_type": "execute_result"
    }
   ],
   "source": [
    "experiment=ab_testing(data=cats, distribution='Binomial', date_column='day', metric='retention_1', \n",
    "                      alpha=0.05, power=0.8, two_sided=True)\n",
    "\n",
    "experiment.MDE(minimal_effect=0.01, maximal_effect=0.1, effect_step=0.01, plot=True, annot=True) "
   ]
  },
  {
   "cell_type": "markdown",
   "id": "fb73e66a",
   "metadata": {},
   "source": [
    "# Clustered Experiments"
   ]
  },
  {
   "cell_type": "code",
   "execution_count": 17,
   "id": "ad220afb",
   "metadata": {
    "ExecuteTime": {
     "end_time": "2023-07-30T18:07:46.926648Z",
     "start_time": "2023-07-30T18:07:45.180133Z"
    }
   },
   "outputs": [],
   "source": [
    "# Creating an imaginary dataset\n",
    "\n",
    "np.random.seed=0\n",
    "\n",
    "x=np.random.dirichlet(alpha=np.random.gamma(3, 2, 1000))\n",
    "\n",
    "driver_id=np.random.choice(np.arange(1000), 100000, replace=True, p=x)\n",
    "\n",
    "df=pd.DataFrame({'driver_id':driver_id})\n",
    "df['weekday']=np.random.choice(np.arange(7), size=100000)\n",
    "df['reaction_time']=df.apply(lambda x: x.driver_id/1000 * x.weekday + np.random.rand() , axis=1)"
   ]
  },
  {
   "cell_type": "code",
   "execution_count": 18,
   "id": "1c3ae58c",
   "metadata": {
    "ExecuteTime": {
     "end_time": "2023-07-30T18:07:46.942653Z",
     "start_time": "2023-07-30T18:07:46.928639Z"
    }
   },
   "outputs": [
    {
     "data": {
      "text/html": [
       "<div>\n",
       "<style scoped>\n",
       "    .dataframe tbody tr th:only-of-type {\n",
       "        vertical-align: middle;\n",
       "    }\n",
       "\n",
       "    .dataframe tbody tr th {\n",
       "        vertical-align: top;\n",
       "    }\n",
       "\n",
       "    .dataframe thead th {\n",
       "        text-align: right;\n",
       "    }\n",
       "</style>\n",
       "<table border=\"1\" class=\"dataframe\">\n",
       "  <thead>\n",
       "    <tr style=\"text-align: right;\">\n",
       "      <th></th>\n",
       "      <th>driver_id</th>\n",
       "      <th>weekday</th>\n",
       "      <th>reaction_time</th>\n",
       "    </tr>\n",
       "  </thead>\n",
       "  <tbody>\n",
       "    <tr>\n",
       "      <th>0</th>\n",
       "      <td>577</td>\n",
       "      <td>2</td>\n",
       "      <td>1.267958</td>\n",
       "    </tr>\n",
       "    <tr>\n",
       "      <th>1</th>\n",
       "      <td>96</td>\n",
       "      <td>1</td>\n",
       "      <td>1.049943</td>\n",
       "    </tr>\n",
       "    <tr>\n",
       "      <th>2</th>\n",
       "      <td>911</td>\n",
       "      <td>5</td>\n",
       "      <td>5.132990</td>\n",
       "    </tr>\n",
       "    <tr>\n",
       "      <th>3</th>\n",
       "      <td>727</td>\n",
       "      <td>3</td>\n",
       "      <td>2.197597</td>\n",
       "    </tr>\n",
       "    <tr>\n",
       "      <th>4</th>\n",
       "      <td>536</td>\n",
       "      <td>5</td>\n",
       "      <td>3.039839</td>\n",
       "    </tr>\n",
       "  </tbody>\n",
       "</table>\n",
       "</div>"
      ],
      "text/plain": [
       "   driver_id  weekday  reaction_time\n",
       "0        577        2       1.267958\n",
       "1         96        1       1.049943\n",
       "2        911        5       5.132990\n",
       "3        727        3       2.197597\n",
       "4        536        5       3.039839"
      ]
     },
     "execution_count": 18,
     "metadata": {},
     "output_type": "execute_result"
    }
   ],
   "source": [
    "df.head()"
   ]
  },
  {
   "cell_type": "code",
   "execution_count": 234,
   "id": "ba91944e",
   "metadata": {
    "ExecuteTime": {
     "end_time": "2023-07-23T13:51:56.145549Z",
     "start_time": "2023-07-23T13:51:55.879836Z"
    }
   },
   "outputs": [
    {
     "data": {
      "text/plain": [
       "Text(0.5, 0, 'minutes')"
      ]
     },
     "execution_count": 234,
     "metadata": {},
     "output_type": "execute_result"
    },
    {
     "data": {
      "image/png": "[encoded data removed]",
      "text/plain": [
       "<Figure size 432x288 with 1 Axes>"
      ]
     },
     "metadata": {
      "needs_background": "light"
     },
     "output_type": "display_data"
    }
   ],
   "source": [
    "df.reaction_time.hist(bins=100, edgecolor='black' ,color='yellow')\n",
    "plt.title('Distribution of Reaction Times')\n",
    "plt.xlabel('minutes')"
   ]
  },
  {
   "cell_type": "code",
   "execution_count": 235,
   "id": "b6eebd3c",
   "metadata": {
    "ExecuteTime": {
     "end_time": "2023-07-23T13:53:56.466869Z",
     "start_time": "2023-07-23T13:51:59.821292Z"
    }
   },
   "outputs": [
    {
     "name": "stdout",
     "output_type": "stream",
     "text": [
      "False Positive Rate (Type I error): 0.789\n"
     ]
    }
   ],
   "source": [
    "from scipy.stats import ttest_ind\n",
    "\n",
    "def allocate_treatment(data: pd.DataFrame , user_column: str):\n",
    "    data['variant']=data.groupby([user_column])[user_column].transform(lambda x: np.random.choice(['A','B']))\n",
    "    return data\n",
    "\n",
    "iterations=1000\n",
    "number_significant=0\n",
    "pvalues=[]\n",
    "\n",
    "\n",
    "for i in range(iterations):\n",
    "    df=allocate_treatment(df, 'driver_id')\n",
    "    p_value=ttest_ind(df[df.variant=='A'].reaction_time , df[df.variant=='B'].reaction_time)[1]\n",
    "    pvalues.append(p_value)\n",
    "    number_significant+=p_value<0.05\n",
    "    \n",
    "\n",
    "print(f'False Positive Rate (Type I error): {number_significant/iterations}')\n",
    "   "
   ]
  },
  {
   "cell_type": "code",
   "execution_count": 236,
   "id": "89467cbb",
   "metadata": {
    "ExecuteTime": {
     "end_time": "2023-07-23T13:53:56.641694Z",
     "start_time": "2023-07-23T13:53:56.468857Z"
    }
   },
   "outputs": [
    {
     "data": {
      "text/plain": [
       "Text(0.5, 0, 'rides')"
      ]
     },
     "execution_count": 236,
     "metadata": {},
     "output_type": "execute_result"
    },
    {
     "data": {
      "image/png": "[encoded data removed]",
      "text/plain": [
       "<Figure size 432x288 with 1 Axes>"
      ]
     },
     "metadata": {
      "needs_background": "light"
     },
     "output_type": "display_data"
    }
   ],
   "source": [
    "\n",
    "#distribution of number of rides per driver\n",
    "\n",
    "df.groupby('driver_id').size().hist(bins=100, edgecolor='black' ,color='yellow')\n",
    "plt.title('Distribution number of rides per driver')\n",
    "plt.xlabel('rides')"
   ]
  },
  {
   "cell_type": "code",
   "execution_count": 237,
   "id": "d3804c6b",
   "metadata": {
    "ExecuteTime": {
     "end_time": "2023-07-23T13:58:53.378052Z",
     "start_time": "2023-07-23T13:58:53.363459Z"
    }
   },
   "outputs": [
    {
     "data": {
      "text/plain": [
       "996"
      ]
     },
     "execution_count": 237,
     "metadata": {},
     "output_type": "execute_result"
    }
   ],
   "source": [
    "df.driver_id.nunique()"
   ]
  },
  {
   "cell_type": "code",
   "execution_count": 16,
   "id": "31596293",
   "metadata": {
    "ExecuteTime": {
     "end_time": "2023-07-30T18:07:24.685911Z",
     "start_time": "2023-07-30T18:07:24.672451Z"
    }
   },
   "outputs": [],
   "source": [
    "def clustered_power(df, cluster_cols: str , metric_col: str , variants_list: list  , effect: float, alpha: float, iterations: int, verbose=True):\n",
    "    import statsmodels.api as sm\n",
    "    \n",
    "    \n",
    "    family = sm.families.Gaussian()\n",
    "    cov_struct=sm.cov_struct.Exchangeable()\n",
    "    \n",
    "    def allocate_treatment(df, cluster_cols, metric_col, variants_list):\n",
    "        clusters=df[cluster_cols].unique()\n",
    "        treatments=[np.random.choice(variants_list,1)[0] for i in clusters]\n",
    "        clusters=pd.DataFrame({'clusters':clusters, 'treatments':treatments})\n",
    "        clusters=pd.get_dummies(clusters, columns=['treatments'], drop_first=True)\n",
    "        df=df.merge(clusters, how='left', left_on=cluster_cols, right_on='clusters')\n",
    "        df=df.drop('clusters', axis=1)\n",
    "        return df\n",
    "    def add_effect(data,effect):\n",
    "        data[metric_col]=np.where(data.iloc[:,2]==1, data[metric_col]+effect, data[metric_col])\n",
    "        return data\n",
    "    num_significant=0\n",
    "    n=1\n",
    "    for i in range(iterations):\n",
    "        data=df[[cluster_cols, metric_col]].copy()\n",
    "        data=add_effect(allocate_treatment(data, cluster_cols, metric_col, variants_list)   , effect)\n",
    "        model=sm.GEE.from_formula(f'{metric_col} ~ {\" + \".join(data.iloc[:,2:].columns)}', data=data, groups=cluster_cols , family=family, cov_struct=cov_struct)\n",
    "        result=model.fit()\n",
    "        num_significant+=result.pvalues[1]<alpha\n",
    "        if verbose:\n",
    "            print(f'Iteration {n}')\n",
    "        n+=1\n",
    "\n",
    "    return num_significant/iterations\n"
   ]
  },
  {
   "cell_type": "code",
   "execution_count": 23,
   "id": "2b44510e",
   "metadata": {
    "ExecuteTime": {
     "end_time": "2023-07-30T18:13:47.796732Z",
     "start_time": "2023-07-30T18:12:47.917504Z"
    }
   },
   "outputs": [
    {
     "name": "stdout",
     "output_type": "stream",
     "text": [
      "Iteration 1\n",
      "Iteration 2\n",
      "Iteration 3\n",
      "Iteration 4\n",
      "Iteration 5\n",
      "Iteration 6\n",
      "Iteration 7\n",
      "Iteration 8\n",
      "Iteration 9\n",
      "Iteration 10\n",
      "Iteration 11\n",
      "Iteration 12\n",
      "Iteration 13\n",
      "Iteration 14\n",
      "Iteration 15\n",
      "Iteration 16\n",
      "Iteration 17\n",
      "Iteration 18\n",
      "Iteration 19\n",
      "Iteration 20\n",
      "Iteration 21\n",
      "Iteration 22\n",
      "Iteration 23\n",
      "Iteration 24\n",
      "Iteration 25\n",
      "Iteration 26\n",
      "Iteration 27\n",
      "Iteration 28\n",
      "Iteration 29\n",
      "Iteration 30\n",
      "Iteration 31\n",
      "Iteration 32\n",
      "Iteration 33\n",
      "Iteration 34\n",
      "Iteration 35\n",
      "Iteration 36\n",
      "Iteration 37\n",
      "Iteration 38\n",
      "Iteration 39\n",
      "Iteration 40\n",
      "Iteration 41\n",
      "Iteration 42\n",
      "Iteration 43\n",
      "Iteration 44\n",
      "Iteration 45\n",
      "Iteration 46\n",
      "Iteration 47\n",
      "Iteration 48\n",
      "Iteration 49\n",
      "Iteration 50\n",
      "Iteration 51\n",
      "Iteration 52\n",
      "Iteration 53\n",
      "Iteration 54\n",
      "Iteration 55\n",
      "Iteration 56\n",
      "Iteration 57\n",
      "Iteration 58\n",
      "Iteration 59\n",
      "Iteration 60\n",
      "Iteration 61\n",
      "Iteration 62\n",
      "Iteration 63\n",
      "Iteration 64\n",
      "Iteration 65\n",
      "Iteration 66\n",
      "Iteration 67\n",
      "Iteration 68\n",
      "Iteration 69\n",
      "Iteration 70\n",
      "Iteration 71\n",
      "Iteration 72\n",
      "Iteration 73\n",
      "Iteration 74\n",
      "Iteration 75\n",
      "Iteration 76\n",
      "Iteration 77\n",
      "Iteration 78\n",
      "Iteration 79\n",
      "Iteration 80\n",
      "Iteration 81\n",
      "Iteration 82\n",
      "Iteration 83\n",
      "Iteration 84\n",
      "Iteration 85\n",
      "Iteration 86\n",
      "Iteration 87\n",
      "Iteration 88\n",
      "Iteration 89\n",
      "Iteration 90\n",
      "Iteration 91\n",
      "Iteration 92\n",
      "Iteration 93\n",
      "Iteration 94\n",
      "Iteration 95\n",
      "Iteration 96\n",
      "Iteration 97\n",
      "Iteration 98\n",
      "Iteration 99\n",
      "Iteration 100\n"
     ]
    },
    {
     "data": {
      "text/plain": [
       "0.64"
      ]
     },
     "execution_count": 23,
     "metadata": {},
     "output_type": "execute_result"
    }
   ],
   "source": [
    "clustered_power(df, cluster_cols='driver_id' , metric_col='reaction_time' , variants_list=['A','B','C','D']  , effect=0.2, alpha=0.05, iterations=100)"
   ]
  },
  {
   "cell_type": "code",
   "execution_count": 24,
   "id": "634085cb",
   "metadata": {
    "ExecuteTime": {
     "end_time": "2023-07-30T18:22:43.829765Z",
     "start_time": "2023-07-30T18:22:43.817752Z"
    }
   },
   "outputs": [
    {
     "data": {
      "text/plain": [
       "24"
      ]
     },
     "execution_count": 24,
     "metadata": {},
     "output_type": "execute_result"
    }
   ],
   "source": [
    "np.prod([2,3,4])"
   ]
  },
  {
   "cell_type": "code",
   "execution_count": null,
   "id": "35949454",
   "metadata": {},
   "outputs": [],
   "source": []
  }
 ],
 "metadata": {
  "kernelspec": {
   "display_name": "Python 3 (ipykernel)",
   "language": "python",
   "name": "python3"
  },
  "language_info": {
   "codemirror_mode": {
    "name": "ipython",
    "version": 3
   },
   "file_extension": ".py",
   "mimetype": "text/x-python",
   "name": "python",
   "nbconvert_exporter": "python",
   "pygments_lexer": "ipython3",
   "version": "3.9.7"
  }
 },
 "nbformat": 4,
 "nbformat_minor": 5
}
