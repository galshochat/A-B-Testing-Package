{
 "cells": [
  {
   "cell_type": "code",
   "execution_count": 1,
   "id": "8e1ce399",
   "metadata": {
    "ExecuteTime": {
     "end_time": "2023-12-30T16:17:01.194726Z",
     "start_time": "2023-12-30T16:16:58.778071Z"
    }
   },
   "outputs": [],
   "source": [
    "from typing import List, Optional\n",
    "import warnings\n",
    "import numpy as np\n",
    "import pandas as pd\n",
    "import matplotlib.pyplot as plt\n",
    "from scipy.stats import norm\n",
    "import datetime\n",
    "from scipy import optimize\n",
    "import pprint\n",
    "\n",
    "\n",
    "class Gaussian():\n",
    "    \n",
    "    def __init__(self, n:int=None, delta:float=None, alpha:float=None, power:float=None, sd:float=None,  two_sided:bool=True):\n",
    "        # method that initializes the instance of the Normal class\n",
    "        \"\"\" n - minimal sample size for one group\n",
    "        delta - effect size \n",
    "        alpha - significance level (Type I error)\n",
    "        power - power of the test while 0.8 being the default  (1 minus Type II error)\n",
    "        sd    - standard deviation in the control group\n",
    "        tails - default two sided test \n",
    "        \"\"\"\n",
    "        #if is None:\n",
    "         #   raise Exception(\"Parameter mean_control_group must be specified\")  \n",
    "\n",
    "        if sum([n is None, delta is None,alpha is None,power is None,sd is None])!=1:\n",
    "            print(sum([n is None, delta is None, alpha is None, power is None, sd is None]))\n",
    "            raise Exception(\"One and only one of the parameters n, delta, alpha, power, sd must be None\")\n",
    "        elif np.abs(any([alpha, power]))>1:\n",
    "            raise ValueError(\"any of the arguments alpha, power must be within range 0-1\") \n",
    "        else:\n",
    "            self.delta=delta\n",
    "            self.power=power\n",
    "            self.alpha=alpha\n",
    "            self.sd=sd\n",
    "            self.two_sided = two_sided\n",
    "            self.z_score_a=norm.ppf(1-self.alpha/(1 if self.two_sided==False else 2)) if alpha is not None else None\n",
    "            self.z_score_b=norm.ppf(self.power) if power is not None else None\n",
    "            #self.mean_test_group=self.delta if self.delta is None else self.mean_control_group + self.delta\n",
    "            \n",
    "            # sample size attribute will be the floor of the provided argument (integer of sample available) or the ceiling of the calculated value (based on other parameters).\n",
    "            self.n=self.Sample_Size_() if n is None else np.floor(n)\n",
    "            self.power=self.Power_() if self.power is None else power\n",
    "            self.delta=self.Delta_() if self.delta is None else delta\n",
    "            self.alpha=self.Alpha_() if self.alpha is None else alpha\n",
    "            self.sd=self.SD_() if self.sd is None else sd\n",
    "            self.params={'n': int(np.ceil(self.n)), 'delta': round(self.delta,4), 'alpha': round(self.alpha,4), 'power': round(self.power,4), 'sd': round(self.sd, 4), 'two-sided experiment': self.two_sided}\n",
    "\n",
    "    #def params_(self):\n",
    "         # method which returns the parameters and arguments of the class\n",
    "     #    return \"n: {}, delta: {}, alpha: {}, power: {}, standard deviation: {}, two-sided experiment: {}\".format(self.n,  self.delta, self.alpha, self.power, self.sd, self.two_sided)\n",
    "     \n",
    "    def Sample_Size_(self)-> int:\n",
    "         # method that returns the minimal sample size of one group given other arguments\n",
    "\n",
    "        n=2*self.sd**2 * (self.z_score_a + self.z_score_b)**2 / (self.delta)**2\n",
    "        return n\n",
    "    \n",
    "    def Power_(self)-> float:\n",
    "        # method that returns the power of the test given other arguments\n",
    "\n",
    "        self.z_score_b = np.sqrt((self.n * (self.delta)**2)/(2*self.sd**2)) - self.z_score_a \n",
    "        power = norm.cdf(self.z_score_b)\n",
    "        return power\n",
    "    \n",
    "    def Alpha_(self)-> float:\n",
    "        # method that returns the probability of type 1 error (p_value) of the test given other arguments\n",
    "\n",
    "        self.z_score_a= np.sqrt((self.n * (self.delta)**2)/(2*self.sd**2)) - self.z_score_b\n",
    "        alpha=self.alpha=(1-norm.cdf(self.z_score_a)) * (1 if self.two_sided==False else 2)\n",
    "        return alpha\n",
    "\n",
    "    def Delta_(self)-> float:\n",
    "        # method that returns the delta of the test given other arguments\n",
    "\n",
    "        delta = np.sqrt((2*self.sd**2 * (self.z_score_a + self.z_score_b)**2)/self.n)\n",
    "        return delta\n",
    "    \n",
    "    def SD_(self)-> float:\n",
    "        # method that returns the standard deviation of the test given other arguments\n",
    "\n",
    "        sd = np.sqrt(self.n * (self.delta)**2/(2* (self.z_score_a + self.z_score_b)**2))\n",
    "        return sd\n",
    "     \n",
    "\n",
    "\n",
    "class Binomial(): \n",
    "\n",
    "    def __init__(self, n:int=None, p1:float=None, delta:float=None, alpha:float=None, power:float=None, two_sided:bool=True):\n",
    " \n",
    "        # method that initializes the instance of the Binomial class\n",
    "        \"\"\" n - minimal sample size for one group\n",
    "        p - probability of success in control group\n",
    "        delta - effect size \n",
    "        alpha - significance level (Type I error)\n",
    "        power - power of the test while 0.8 being the default  (1 minus Type II error)\n",
    "        tails - default two sided test \n",
    "        \"\"\"\n",
    "\n",
    "        if sum([p1 is None, n is None, delta is None, alpha is None, power is None])!=1:\n",
    "            raise Exception(\"One and only one of the parameters n, delta, alpha, power must be None\")\n",
    "        elif np.abs(any([alpha, power]))>1:\n",
    "            raise ValueError(\"any of the arguments alpha, power must be within range 0-1\")\n",
    "        elif delta is not None and np.abs(delta)>1:\n",
    "            raise ValueError(\"delta must be within range 0-1\") \n",
    "        else:\n",
    "            self.p1=p1\n",
    "            self.delta=delta\n",
    "            self.power=power\n",
    "            self.alpha=alpha\n",
    "            self.two_sided = two_sided\n",
    "            self.p2=self.p1 + self.delta if self.delta is not None and self.p1 is not None else None\n",
    "            self.z_score_a=norm.ppf(1-self.alpha/(1 if self.two_sided==False else 2)) if alpha is not None else None\n",
    "            self.z_score_b=norm.ppf(self.power) if power is not None else None\n",
    "\n",
    "            # sample size attribute will be the floor of the provided argument (integer of sample available) or the ceiling of the calculated value (based on other parameters).\n",
    "            self.n=self.Sample_Size() if n is None else np.floor(n)\n",
    "            self.p1=self.Probability_Control() if p1 is None else p1\n",
    "            self.power=self.Power() if self.power is None else power\n",
    "            self.delta=self.Delta() if self.delta is None else delta\n",
    "            self.alpha=self.Alpha() if self.alpha is None else alpha\n",
    "            self.params={\"n\": int(np.ceil(self.n)), \"p1\": self.p1, \"delta\": self.delta, \"alpha\": self.alpha, \"power\": self.power, \"two-sided experiment\": self.two_sided}\n",
    "     \n",
    "\n",
    "    def Sample_Size(self)-> int:\n",
    "         # method that returns the minimal sample size of one group given other arguments\n",
    "        n=(self.z_score_a * np.sqrt((self.p1+self.p2)*(1-self.p1 + 1-self.p2)/2) + self.z_score_b*np.sqrt((self.p1*(1-self.p1)) + (self.p2 * (1-self.p2))))**2/self.delta**2\n",
    "\n",
    "        # http://meteo.edu.vn/GiaoTrinhXS/e-book/PQ220-6234F.Ch-10.pdf\n",
    "        return n\n",
    "    \n",
    "    def Probability_Control(self)-> float:\n",
    "        # method that returns the probability of success in control group\n",
    "        warnings.filterwarnings(\"ignore\", category = RuntimeWarning)\n",
    "        def func(p1):\n",
    "            return (self.z_score_a * np.sqrt((2*p1+self.delta)*(1-p1 + 1-p1-self.delta)/2) + self.z_score_b*np.sqrt((p1*(1-p1)) + ((p1+self.delta) * (1-p1-self.delta))))**2/self.delta**2 - self.n\n",
    "        p1=round(optimize.bisect(func, a=0, b=1), 2)\n",
    "        warnings.filterwarnings(\"always\", category = RuntimeWarning)\n",
    "        return p1\n",
    "\n",
    "    def Power(self)-> float:\n",
    "        # method that returns the power of the test given other arguments\n",
    "        self.z_score_b=(np.sqrt(self.n * self.delta**2) - self.z_score_a * np.sqrt((self.p1+self.p2)*(1-self.p1 + 1-self.p2)/2))* 1/np.sqrt((self.p1*(1-self.p1)) + (self.p2 * (1-self.p2))) \n",
    "        power=norm.cdf(self.z_score_b)\n",
    "        return power\n",
    "    \n",
    "    def Alpha(self)-> float:\n",
    "        # method that returns the probability of type 1 error (p_value) of the test given other arguments\n",
    "        self.z_score_a=(np.sqrt(self.n * self.delta**2)-self.z_score_b*np.sqrt((self.p1*(1-self.p1)) + (self.p2 * (1-self.p2))))/np.sqrt((self.p1+self.p2)*(1-self.p1 + 1-self.p2)/2) \n",
    "        alpha=self.alpha=(1-norm.cdf(self.z_score_a)) * (1 if self.two_sided==False else 2)\n",
    "        return alpha\n",
    "\n",
    "    def Delta(self)-> float:\n",
    "        # method that returns the delta of the test given other arguments\n",
    "        warnings.filterwarnings(\"ignore\", category = RuntimeWarning)\n",
    "        def func(delta):\n",
    "            return (self.z_score_a * np.sqrt((2*self.p1+delta)*(1-self.p1 + 1-self.p1-delta)/2) + self.z_score_b*np.sqrt((self.p1*(1-self.p1)) + ((self.p1+delta) * (1-self.p1-delta))))**2/delta**2 - self.n\n",
    "        delta=round(optimize.bisect(func, a=0, b=1), 4)\n",
    "        warnings.filterwarnings(\"always\", category = RuntimeWarning)\n",
    "        return delta\n",
    "\n",
    "\n",
    "class ab_testing(Binomial,Gaussian):\n",
    "\n",
    "    def __init__(self, data:pd.DataFrame=None, metric:str=None, distribution:str=None ,date_column:str=None, experiment_unit_column:str=None, n:int=None, p1:float=None, delta:float=None, alpha:float=None, power:float=None, sd:float=None ,two_sided:bool=True, num_comparisons:int=1):\n",
    "        \n",
    "        self.data=data\n",
    "        self.num_comparisons=num_comparisons\n",
    "        alpha=alpha/self.num_comparisons if alpha is not None else None\n",
    "        \n",
    "        if distribution in [\"Binomial\", \"Gaussian\", \"Normal\"]:\n",
    "            self.distribution=distribution\n",
    "        else: \n",
    "            raise ValueError('Distribution must be \"Binomial\" , \"Gaussian\" or \"Normal\"')\n",
    "        if data is not None:\n",
    "            \n",
    "            self.metric=metric\n",
    "            self.date_column=date_column\n",
    "            self.experiment_unit_column=experiment_unit_column\n",
    "            if distribution=='Binomial':\n",
    "                self.p1=self.data[self.metric].mean()\n",
    "            else:\n",
    "                self.sd=np.std(self.data[self.metric].values, ddof=1)\n",
    "                \n",
    "            self.alpha=alpha\n",
    "            self.power=power\n",
    "            self.two_sided=two_sided\n",
    "            self.delta=delta\n",
    "            \n",
    "        else:\n",
    "            if distribution=='Binomial':\n",
    "                Binomial.__init__(self, n, p1, delta, alpha, power, two_sided)\n",
    "            elif distribution in ('Normal','Gaussian'):\n",
    "                Gaussian.__init__(self, n, delta, alpha, power, sd,  two_sided)\n",
    "\n",
    "    def __str__(self):\n",
    "        # method which returns the parameters and arguments of the ab-testing instance\n",
    "         if self.data is None:\n",
    "            self.params['distribution']=self.distribution\n",
    "            if self.num_comparisons>2:\n",
    "                self.params['number of comparisons']=self.num_comparisons\n",
    "                self.params['alpha']=self.alpha*self.num_comparisons\n",
    "                self.params['correction']='Bonferroni correction to family wise alpha was applied for every pairwise comparison'\n",
    "            return pprint.pformat(width=100, object=self.params, sort_dicts=False)\n",
    "         else:\n",
    "            self.params={'alpha':self.alpha*self.num_comparisons, 'power':self.power, 'two-sided experiment': self.two_sided}\n",
    "            return pprint.pformat(width=100, object=self.params, sort_dicts=False)\n",
    "         \n",
    "         \n",
    "\n",
    "    # method which returns the Minimal Detectable Effect experiment time estimation for an array of effect values.\n",
    "\n",
    "    def MDE(self, events_per_time_unit_and_variant:int=None ,minimal_effect:float=None, maximum_effect:float=None, effect_step:float=None, two_sided:bool=True, plot:bool=False, save_path:bool=None, **plot_kwargs):\n",
    "        # produces an array of delta values\n",
    "        if not all([minimal_effect,maximum_effect,effect_step]):\n",
    "            raise ValueError('The values of minimal_effect, maximal_effect, effect_step cannot be None')\n",
    "        #array of effect size values\n",
    "        effect_magnitudes=np.arange(minimal_effect,maximum_effect + effect_step ,effect_step)\n",
    "        #list of experiment days needed for corresponding effect\n",
    "        days=[]\n",
    "        sizes=[]\n",
    "\n",
    "        if self.data is not None:\n",
    "\n",
    "            #calculates number of time units present in the dataset\n",
    "            length_input_data = self.data[self.date_column].nunique()\n",
    "            #calculates the floor of events per time unit\n",
    "            self.events_per_time_unit_and_variant=np.floor(len(self.data[(self.data)[self.metric].notnull()])/length_input_data/(self.num_comparisons+1))\n",
    "            #the metric of interest base value\n",
    "            pre_experiment_value=self.data[self.metric].mean()\n",
    "            \n",
    "        else:\n",
    "            if events_per_time_unit_and_variant is None:\n",
    "                raise ValueError('if data with temporal dimension is not provided, number of events per time unit and variant must be specified')\n",
    "                \n",
    "            else:\n",
    "                self.events_per_time_unit_and_variant=events_per_time_unit_and_variant\n",
    "            \n",
    "        \n",
    "        for i in effect_magnitudes:\n",
    "            self.delta=i\n",
    "            \n",
    "            if self.distribution in ('Binomial'):\n",
    "                \n",
    "                self.p1=self.p1 if self.p1 is not None else pre_experiment_value\n",
    "                self.p2=self.p1 + self.delta\n",
    "                Binomial.__init__(self, n=None , p1=self.p1 , delta=self.delta, alpha=self.alpha/self.num_comparisons , power=self.power, two_sided=self.two_sided)\n",
    "                n=self.n\n",
    "            else:\n",
    "                Gaussian.__init__(self, n=None , sd=self.sd , delta=self.delta, alpha=self.alpha/self.num_comparisons, power=self.power, two_sided=self.two_sided)\n",
    "                n=self.n\n",
    "            sizes.append(int(np.ceil(n)))\n",
    "            days.append(int(np.ceil(n/self.events_per_time_unit_and_variant)))\n",
    "\n",
    "        results=pd.DataFrame({'effect':effect_magnitudes,'sample size per group':sizes ,'length of experiment':days})\n",
    "        self.delta=effect_magnitudes\n",
    "        self.n=sizes\n",
    "        self.experiment_length=days\n",
    "        \n",
    "        if not plot: \n",
    "            self.mde=results\n",
    "            return self.mde\n",
    "        else: \n",
    "            self.mde=self.Plot_MDE(save_path, results, **plot_kwargs)\n",
    "            return self.mde\n",
    "    \n",
    "    def Plot_MDE(self, save_path:bool=None ,results:pd.DataFrame=None, figsize:tuple=(10,5), title:str='MDE', marker:str='o', ls:str='-',annot:bool=True, **plot_kwargs):\n",
    "\n",
    "        fig=plt.figure(figsize=figsize)\n",
    "        ax=plt.axes()\n",
    "        ax.grid(visible=True, linewidth=2)\n",
    "        ax.set_title(title)\n",
    "        ax.set_xlabel('Length of Experiment')\n",
    "        ax.set_ylabel(u'Effect Δ')\n",
    "        ax.plot(results['length of experiment'].values, results['effect'].values, marker=marker, ls=ls, **plot_kwargs)\n",
    "        if annot==True:\n",
    "            for i in range(len(results)):\n",
    "                plt.annotate(xy=(results['length of experiment'].values[i]+np.min([25,results['length of experiment'].min()]), results['effect'].values[i]), text=results['length of experiment'].values[i])\n",
    "                \n",
    "        ax.set_xlim(-1*(results['length of experiment'].max()*1.05-results['length of experiment'].max()), results['length of experiment'].values[i]+results['length of experiment'].max()*1.05)\n",
    "        fig=ax.figure\n",
    "        if save_path is not None:\n",
    "            fig.savefig(save_path)\n",
    "        else:\n",
    "            plt.close()\n",
    "            return fig\n",
    "    \n",
    "    def clustered_power(self, cluster_col:str , num_variants:int=None , covariates:Optional[List[str]]=None, delta:float=None, iterations:int=200, verbose:bool=True):\n",
    "        import statsmodels.api as sm\n",
    "        \n",
    "        num_variants = num_variants if num_variants is not None else self.num_comparisons \n",
    "        family = sm.families.Gaussian()\n",
    "        cov_struct=sm.cov_struct.Exchangeable()\n",
    "        if covariates:\n",
    "            cov_data = self.data[covariates].copy()\n",
    "\n",
    "        def allocate_treatment(data, cluster_col, num_variants):   \n",
    "            clusters=data[cluster_col].unique()\n",
    "            treatments=[np.random.choice(num_variants,1)[0] for i in clusters]\n",
    "            clusters=pd.DataFrame({'clusters':clusters, 'treatments':treatments})\n",
    "            clusters=pd.get_dummies(clusters, columns=['treatments'], drop_first=True)\n",
    "            data=data.merge(clusters, how='inner', left_on=cluster_col, right_on='clusters')\n",
    "            data=data.drop(['clusters'], axis=1)\n",
    "            return data\n",
    "        def add_effect(data, delta):\n",
    "            data[self.metric]=np.where(data.iloc[:,2]==1, data[self.metric]+delta, data[self.metric])\n",
    "            return data\n",
    "        num_significant=0\n",
    "        n=1\n",
    "        alpha=self.alpha*self.num_comparisons\n",
    "        delta=delta if delta is not None else self.delta\n",
    "        if delta is None:\n",
    "            raise ValueError('Delta must be specified when instantiating the class or when calling the method')\n",
    "        for i in range(iterations):\n",
    "            data=self.data[[cluster_col, self.metric]].copy()\n",
    "            num_variants=num_variants if num_variants is not None else self.num_comparisons+1\n",
    "            data=add_effect(allocate_treatment(data, cluster_col, num_variants), delta)\n",
    "            if covariates:\n",
    "                data = pd.concat([data,cov_data], axis=1)\n",
    "            model=sm.GEE.from_formula(f'{self.metric} ~ {\" + \".join(data.iloc[:,2:].columns)}', data=data, groups=cluster_col , family=family, cov_struct=cov_struct)\n",
    "            result=model.fit()\n",
    "            num_significant+=result.pvalues[1]<alpha\n",
    "            if verbose:\n",
    "                print(f'Iteration {n}')\n",
    "            n+=1\n",
    "\n",
    "        print(f'The power of the test is {num_significant/iterations}')\n"
   ]
  },
  {
   "cell_type": "code",
   "execution_count": 2,
   "id": "0ee7d9f2",
   "metadata": {
    "ExecuteTime": {
     "end_time": "2023-12-30T16:17:04.787488Z",
     "start_time": "2023-12-30T16:17:04.765988Z"
    }
   },
   "outputs": [
    {
     "data": {
      "text/plain": [
       "{'n': 14128,\n",
       " 'delta': 0.02,\n",
       " 'alpha': 0.05,\n",
       " 'power': 0.8,\n",
       " 'sd': 0.6,\n",
       " 'two-sided experiment': True}"
      ]
     },
     "execution_count": 2,
     "metadata": {},
     "output_type": "execute_result"
    }
   ],
   "source": [
    "#Obteniendo la deviación estandar\n",
    "\n",
    "Gaussian(n=14128, delta=0.02, alpha=0.05 ,power=0.8, two_sided=True).params\n"
   ]
  },
  {
   "cell_type": "code",
   "execution_count": 3,
   "id": "442de255",
   "metadata": {
    "ExecuteTime": {
     "end_time": "2023-12-30T16:17:05.411270Z",
     "start_time": "2023-12-30T16:17:05.390170Z"
    }
   },
   "outputs": [
    {
     "data": {
      "text/plain": [
       "{'n': 14128,\n",
       " 'delta': 0.02,\n",
       " 'alpha': 0.05,\n",
       " 'power': 0.8,\n",
       " 'sd': 0.6,\n",
       " 'two-sided experiment': True}"
      ]
     },
     "execution_count": 3,
     "metadata": {},
     "output_type": "execute_result"
    }
   ],
   "source": [
    "#obteniendo alpha (nivel de significado del test)\n",
    "\n",
    "Gaussian(n=14128, delta=0.02 ,power=0.8, sd=0.6, two_sided=True).params"
   ]
  },
  {
   "cell_type": "code",
   "execution_count": 4,
   "id": "22aedf58",
   "metadata": {
    "ExecuteTime": {
     "end_time": "2023-12-30T16:17:05.837315Z",
     "start_time": "2023-12-30T16:17:05.821361Z"
    }
   },
   "outputs": [
    {
     "data": {
      "text/plain": [
       "{'n': 14128,\n",
       " 'delta': 0.02,\n",
       " 'alpha': 0.05,\n",
       " 'power': 0.8,\n",
       " 'sd': 0.6,\n",
       " 'two-sided experiment': True}"
      ]
     },
     "execution_count": 4,
     "metadata": {},
     "output_type": "execute_result"
    }
   ],
   "source": [
    "#obteniendo power (potencia del test)\n",
    "\n",
    "Gaussian(n=14128, delta=0.02,  alpha=0.05 ,sd=0.6, two_sided=True).params"
   ]
  },
  {
   "cell_type": "code",
   "execution_count": 5,
   "id": "cac4aa03",
   "metadata": {
    "ExecuteTime": {
     "end_time": "2023-12-30T16:17:06.464642Z",
     "start_time": "2023-12-30T16:17:06.441568Z"
    }
   },
   "outputs": [
    {
     "data": {
      "text/plain": [
       "{'n': 14128,\n",
       " 'delta': 0.02,\n",
       " 'alpha': 0.05,\n",
       " 'power': 0.8,\n",
       " 'sd': 0.6,\n",
       " 'two-sided experiment': True}"
      ]
     },
     "execution_count": 5,
     "metadata": {},
     "output_type": "execute_result"
    }
   ],
   "source": [
    "Gaussian(n=14128, alpha=0.05, power=0.8, sd=0.6 ,two_sided=True).params"
   ]
  },
  {
   "cell_type": "code",
   "execution_count": 6,
   "id": "29bae176",
   "metadata": {
    "ExecuteTime": {
     "end_time": "2023-12-30T16:17:06.914126Z",
     "start_time": "2023-12-30T16:17:06.894250Z"
    }
   },
   "outputs": [
    {
     "data": {
      "text/plain": [
       "{'n': 25583,\n",
       " 'p1': 0.2,\n",
       " 'delta': 0.01,\n",
       " 'alpha': 0.05,\n",
       " 'power': 0.8,\n",
       " 'two-sided experiment': True}"
      ]
     },
     "execution_count": 6,
     "metadata": {},
     "output_type": "execute_result"
    }
   ],
   "source": [
    "#Usage of Binomial class:\n",
    "\n",
    "Binomial(p1=0.2, delta=0.01, alpha=0.05, power=0.8).params"
   ]
  },
  {
   "cell_type": "code",
   "execution_count": 7,
   "id": "61a90cd9",
   "metadata": {
    "ExecuteTime": {
     "end_time": "2023-12-30T16:17:07.370723Z",
     "start_time": "2023-12-30T16:17:07.337971Z"
    }
   },
   "outputs": [
    {
     "data": {
      "text/plain": [
       "0.8045654450900508"
      ]
     },
     "execution_count": 7,
     "metadata": {},
     "output_type": "execute_result"
    }
   ],
   "source": [
    "#instantiating the ab_testing class object:\n",
    "\n",
    "a=Binomial(n=25883, p1=0.2, delta=0.01, alpha=0.05)\n",
    "\n",
    "a.power"
   ]
  },
  {
   "cell_type": "markdown",
   "id": "25415cfb",
   "metadata": {},
   "source": [
    "## Minimum Detectable Effect (*MDE*)"
   ]
  },
  {
   "cell_type": "code",
   "execution_count": 8,
   "id": "e3cf544e",
   "metadata": {
    "ExecuteTime": {
     "end_time": "2023-12-30T16:17:08.603082Z",
     "start_time": "2023-12-30T16:17:08.275264Z"
    }
   },
   "outputs": [
    {
     "data": {
      "image/png": "[encoded data removed]",
      "text/plain": [
       "<Figure size 720x360 with 1 Axes>"
      ]
     },
     "execution_count": 8,
     "metadata": {},
     "output_type": "execute_result"
    }
   ],
   "source": [
    "ab_testing(n=25583, p1=0.2, alpha=0.05, power=0.8, two_sided=True, distribution='Binomial').MDE(minimal_effect=0.01, maximum_effect=0.1, effect_step=0.01, events_per_time_unit_and_variant=15, plot=True)"
   ]
  },
  {
   "cell_type": "code",
   "execution_count": 9,
   "id": "d73a93cc",
   "metadata": {
    "ExecuteTime": {
     "end_time": "2023-12-30T16:17:08.903266Z",
     "start_time": "2023-12-30T16:17:08.854966Z"
    }
   },
   "outputs": [
    {
     "data": {
      "text/html": [
       "<div>\n",
       "<style scoped>\n",
       "    .dataframe tbody tr th:only-of-type {\n",
       "        vertical-align: middle;\n",
       "    }\n",
       "\n",
       "    .dataframe tbody tr th {\n",
       "        vertical-align: top;\n",
       "    }\n",
       "\n",
       "    .dataframe thead th {\n",
       "        text-align: right;\n",
       "    }\n",
       "</style>\n",
       "<table border=\"1\" class=\"dataframe\">\n",
       "  <thead>\n",
       "    <tr style=\"text-align: right;\">\n",
       "      <th></th>\n",
       "      <th>effect</th>\n",
       "      <th>sample size per group</th>\n",
       "      <th>length of experiment</th>\n",
       "    </tr>\n",
       "  </thead>\n",
       "  <tbody>\n",
       "    <tr>\n",
       "      <th>0</th>\n",
       "      <td>0.01</td>\n",
       "      <td>25583</td>\n",
       "      <td>427</td>\n",
       "    </tr>\n",
       "    <tr>\n",
       "      <th>1</th>\n",
       "      <td>0.02</td>\n",
       "      <td>6510</td>\n",
       "      <td>109</td>\n",
       "    </tr>\n",
       "    <tr>\n",
       "      <th>2</th>\n",
       "      <td>0.03</td>\n",
       "      <td>2943</td>\n",
       "      <td>50</td>\n",
       "    </tr>\n",
       "    <tr>\n",
       "      <th>3</th>\n",
       "      <td>0.04</td>\n",
       "      <td>1683</td>\n",
       "      <td>29</td>\n",
       "    </tr>\n",
       "    <tr>\n",
       "      <th>4</th>\n",
       "      <td>0.05</td>\n",
       "      <td>1094</td>\n",
       "      <td>19</td>\n",
       "    </tr>\n",
       "    <tr>\n",
       "      <th>5</th>\n",
       "      <td>0.06</td>\n",
       "      <td>772</td>\n",
       "      <td>13</td>\n",
       "    </tr>\n",
       "    <tr>\n",
       "      <th>6</th>\n",
       "      <td>0.07</td>\n",
       "      <td>575</td>\n",
       "      <td>10</td>\n",
       "    </tr>\n",
       "    <tr>\n",
       "      <th>7</th>\n",
       "      <td>0.08</td>\n",
       "      <td>447</td>\n",
       "      <td>8</td>\n",
       "    </tr>\n",
       "    <tr>\n",
       "      <th>8</th>\n",
       "      <td>0.09</td>\n",
       "      <td>358</td>\n",
       "      <td>6</td>\n",
       "    </tr>\n",
       "    <tr>\n",
       "      <th>9</th>\n",
       "      <td>0.10</td>\n",
       "      <td>294</td>\n",
       "      <td>5</td>\n",
       "    </tr>\n",
       "  </tbody>\n",
       "</table>\n",
       "</div>"
      ],
      "text/plain": [
       "   effect  sample size per group  length of experiment\n",
       "0    0.01                  25583                   427\n",
       "1    0.02                   6510                   109\n",
       "2    0.03                   2943                    50\n",
       "3    0.04                   1683                    29\n",
       "4    0.05                   1094                    19\n",
       "5    0.06                    772                    13\n",
       "6    0.07                    575                    10\n",
       "7    0.08                    447                     8\n",
       "8    0.09                    358                     6\n",
       "9    0.10                    294                     5"
      ]
     },
     "execution_count": 9,
     "metadata": {},
     "output_type": "execute_result"
    }
   ],
   "source": [
    "experiment=ab_testing(p1=0.2, n=25583, alpha=0.05, power=0.8 ,two_sided=True, distribution='Binomial')\n",
    "\n",
    "experiment.MDE(minimal_effect=0.01, maximum_effect=0.1, effect_step=0.01, events_per_time_unit_and_variant=60)"
   ]
  },
  {
   "cell_type": "code",
   "execution_count": 10,
   "id": "7204afe5",
   "metadata": {
    "ExecuteTime": {
     "end_time": "2023-12-30T16:17:09.470110Z",
     "start_time": "2023-12-30T16:17:09.377991Z"
    }
   },
   "outputs": [],
   "source": [
    "cats=pd.read_csv('C:/Users/gshoc/OneDrive/Documentos/MASTER/TFM/Cookie Cats/cookie_cats.csv')"
   ]
  },
  {
   "cell_type": "code",
   "execution_count": 11,
   "id": "73d5e248",
   "metadata": {
    "ExecuteTime": {
     "end_time": "2023-12-30T16:17:09.828442Z",
     "start_time": "2023-12-30T16:17:09.810751Z"
    }
   },
   "outputs": [
    {
     "data": {
      "text/html": [
       "<div>\n",
       "<style scoped>\n",
       "    .dataframe tbody tr th:only-of-type {\n",
       "        vertical-align: middle;\n",
       "    }\n",
       "\n",
       "    .dataframe tbody tr th {\n",
       "        vertical-align: top;\n",
       "    }\n",
       "\n",
       "    .dataframe thead th {\n",
       "        text-align: right;\n",
       "    }\n",
       "</style>\n",
       "<table border=\"1\" class=\"dataframe\">\n",
       "  <thead>\n",
       "    <tr style=\"text-align: right;\">\n",
       "      <th></th>\n",
       "      <th>userid</th>\n",
       "      <th>version</th>\n",
       "      <th>sum_gamerounds</th>\n",
       "      <th>retention_1</th>\n",
       "      <th>retention_7</th>\n",
       "    </tr>\n",
       "  </thead>\n",
       "  <tbody>\n",
       "    <tr>\n",
       "      <th>0</th>\n",
       "      <td>116</td>\n",
       "      <td>gate_30</td>\n",
       "      <td>3</td>\n",
       "      <td>False</td>\n",
       "      <td>False</td>\n",
       "    </tr>\n",
       "    <tr>\n",
       "      <th>1</th>\n",
       "      <td>337</td>\n",
       "      <td>gate_30</td>\n",
       "      <td>38</td>\n",
       "      <td>True</td>\n",
       "      <td>False</td>\n",
       "    </tr>\n",
       "    <tr>\n",
       "      <th>2</th>\n",
       "      <td>377</td>\n",
       "      <td>gate_40</td>\n",
       "      <td>165</td>\n",
       "      <td>True</td>\n",
       "      <td>False</td>\n",
       "    </tr>\n",
       "    <tr>\n",
       "      <th>3</th>\n",
       "      <td>483</td>\n",
       "      <td>gate_40</td>\n",
       "      <td>1</td>\n",
       "      <td>False</td>\n",
       "      <td>False</td>\n",
       "    </tr>\n",
       "    <tr>\n",
       "      <th>4</th>\n",
       "      <td>488</td>\n",
       "      <td>gate_40</td>\n",
       "      <td>179</td>\n",
       "      <td>True</td>\n",
       "      <td>True</td>\n",
       "    </tr>\n",
       "    <tr>\n",
       "      <th>5</th>\n",
       "      <td>540</td>\n",
       "      <td>gate_40</td>\n",
       "      <td>187</td>\n",
       "      <td>True</td>\n",
       "      <td>True</td>\n",
       "    </tr>\n",
       "  </tbody>\n",
       "</table>\n",
       "</div>"
      ],
      "text/plain": [
       "   userid  version  sum_gamerounds  retention_1  retention_7\n",
       "0     116  gate_30               3        False        False\n",
       "1     337  gate_30              38         True        False\n",
       "2     377  gate_40             165         True        False\n",
       "3     483  gate_40               1        False        False\n",
       "4     488  gate_40             179         True         True\n",
       "5     540  gate_40             187         True         True"
      ]
     },
     "execution_count": 11,
     "metadata": {},
     "output_type": "execute_result"
    }
   ],
   "source": [
    "cats.head(6)"
   ]
  },
  {
   "cell_type": "code",
   "execution_count": null,
   "id": "5d4c81c6",
   "metadata": {},
   "outputs": [],
   "source": []
  },
  {
   "cell_type": "code",
   "execution_count": 12,
   "id": "fd6d2d57",
   "metadata": {
    "ExecuteTime": {
     "end_time": "2023-12-30T16:17:10.678636Z",
     "start_time": "2023-12-30T16:17:10.661923Z"
    }
   },
   "outputs": [],
   "source": [
    "cats[['retention_1','retention_7']]=np.where(cats[['retention_1','retention_7']]==True, 1,0)"
   ]
  },
  {
   "cell_type": "code",
   "execution_count": 13,
   "id": "efa71022",
   "metadata": {
    "ExecuteTime": {
     "end_time": "2023-12-30T16:17:11.137088Z",
     "start_time": "2023-12-30T16:17:11.104664Z"
    }
   },
   "outputs": [],
   "source": [
    "cats=cats[cats.version=='gate_30'].drop('version', axis=1)"
   ]
  },
  {
   "cell_type": "code",
   "execution_count": 14,
   "id": "ae673766",
   "metadata": {
    "ExecuteTime": {
     "end_time": "2023-12-30T16:17:11.803790Z",
     "start_time": "2023-12-30T16:17:11.504631Z"
    }
   },
   "outputs": [],
   "source": [
    "startdate=datetime.date(year=2023,month=5,day=1)\n",
    "\n",
    "cats['day']=[startdate+datetime.timedelta(np.random.randint(1,31)) for i in range(len(cats))]\n",
    "\n"
   ]
  },
  {
   "cell_type": "code",
   "execution_count": 15,
   "id": "d00b7a50",
   "metadata": {
    "ExecuteTime": {
     "end_time": "2023-12-30T16:17:11.899187Z",
     "start_time": "2023-12-30T16:17:11.876825Z"
    }
   },
   "outputs": [
    {
     "data": {
      "text/html": [
       "<div>\n",
       "<style scoped>\n",
       "    .dataframe tbody tr th:only-of-type {\n",
       "        vertical-align: middle;\n",
       "    }\n",
       "\n",
       "    .dataframe tbody tr th {\n",
       "        vertical-align: top;\n",
       "    }\n",
       "\n",
       "    .dataframe thead th {\n",
       "        text-align: right;\n",
       "    }\n",
       "</style>\n",
       "<table border=\"1\" class=\"dataframe\">\n",
       "  <thead>\n",
       "    <tr style=\"text-align: right;\">\n",
       "      <th></th>\n",
       "      <th>userid</th>\n",
       "      <th>sum_gamerounds</th>\n",
       "      <th>retention_1</th>\n",
       "      <th>retention_7</th>\n",
       "      <th>day</th>\n",
       "    </tr>\n",
       "  </thead>\n",
       "  <tbody>\n",
       "    <tr>\n",
       "      <th>0</th>\n",
       "      <td>116</td>\n",
       "      <td>3</td>\n",
       "      <td>0</td>\n",
       "      <td>0</td>\n",
       "      <td>2023-05-07</td>\n",
       "    </tr>\n",
       "    <tr>\n",
       "      <th>1</th>\n",
       "      <td>337</td>\n",
       "      <td>38</td>\n",
       "      <td>1</td>\n",
       "      <td>0</td>\n",
       "      <td>2023-05-28</td>\n",
       "    </tr>\n",
       "    <tr>\n",
       "      <th>6</th>\n",
       "      <td>1066</td>\n",
       "      <td>0</td>\n",
       "      <td>0</td>\n",
       "      <td>0</td>\n",
       "      <td>2023-05-06</td>\n",
       "    </tr>\n",
       "    <tr>\n",
       "      <th>11</th>\n",
       "      <td>2101</td>\n",
       "      <td>0</td>\n",
       "      <td>0</td>\n",
       "      <td>0</td>\n",
       "      <td>2023-05-05</td>\n",
       "    </tr>\n",
       "    <tr>\n",
       "      <th>13</th>\n",
       "      <td>2179</td>\n",
       "      <td>39</td>\n",
       "      <td>1</td>\n",
       "      <td>0</td>\n",
       "      <td>2023-05-09</td>\n",
       "    </tr>\n",
       "    <tr>\n",
       "      <th>14</th>\n",
       "      <td>2218</td>\n",
       "      <td>305</td>\n",
       "      <td>1</td>\n",
       "      <td>1</td>\n",
       "      <td>2023-05-09</td>\n",
       "    </tr>\n",
       "  </tbody>\n",
       "</table>\n",
       "</div>"
      ],
      "text/plain": [
       "    userid  sum_gamerounds  retention_1  retention_7         day\n",
       "0      116               3            0            0  2023-05-07\n",
       "1      337              38            1            0  2023-05-28\n",
       "6     1066               0            0            0  2023-05-06\n",
       "11    2101               0            0            0  2023-05-05\n",
       "13    2179              39            1            0  2023-05-09\n",
       "14    2218             305            1            1  2023-05-09"
      ]
     },
     "execution_count": 15,
     "metadata": {},
     "output_type": "execute_result"
    }
   ],
   "source": [
    "cats.head(6)"
   ]
  },
  {
   "cell_type": "code",
   "execution_count": 16,
   "id": "7ac8f8ed",
   "metadata": {
    "ExecuteTime": {
     "end_time": "2023-12-30T16:17:12.320376Z",
     "start_time": "2023-12-30T16:17:12.292010Z"
    }
   },
   "outputs": [
    {
     "data": {
      "text/html": [
       "<div>\n",
       "<style scoped>\n",
       "    .dataframe tbody tr th:only-of-type {\n",
       "        vertical-align: middle;\n",
       "    }\n",
       "\n",
       "    .dataframe tbody tr th {\n",
       "        vertical-align: top;\n",
       "    }\n",
       "\n",
       "    .dataframe thead th {\n",
       "        text-align: right;\n",
       "    }\n",
       "</style>\n",
       "<table border=\"1\" class=\"dataframe\">\n",
       "  <thead>\n",
       "    <tr style=\"text-align: right;\">\n",
       "      <th></th>\n",
       "      <th>effect</th>\n",
       "      <th>sample size per group</th>\n",
       "      <th>length of experiment</th>\n",
       "    </tr>\n",
       "  </thead>\n",
       "  <tbody>\n",
       "    <tr>\n",
       "      <th>0</th>\n",
       "      <td>0.01</td>\n",
       "      <td>38900</td>\n",
       "      <td>53</td>\n",
       "    </tr>\n",
       "    <tr>\n",
       "      <th>1</th>\n",
       "      <td>0.02</td>\n",
       "      <td>9742</td>\n",
       "      <td>14</td>\n",
       "    </tr>\n",
       "    <tr>\n",
       "      <th>2</th>\n",
       "      <td>0.03</td>\n",
       "      <td>4336</td>\n",
       "      <td>6</td>\n",
       "    </tr>\n",
       "    <tr>\n",
       "      <th>3</th>\n",
       "      <td>0.04</td>\n",
       "      <td>2442</td>\n",
       "      <td>4</td>\n",
       "    </tr>\n",
       "    <tr>\n",
       "      <th>4</th>\n",
       "      <td>0.05</td>\n",
       "      <td>1565</td>\n",
       "      <td>3</td>\n",
       "    </tr>\n",
       "    <tr>\n",
       "      <th>5</th>\n",
       "      <td>0.06</td>\n",
       "      <td>1087</td>\n",
       "      <td>2</td>\n",
       "    </tr>\n",
       "    <tr>\n",
       "      <th>6</th>\n",
       "      <td>0.07</td>\n",
       "      <td>799</td>\n",
       "      <td>2</td>\n",
       "    </tr>\n",
       "    <tr>\n",
       "      <th>7</th>\n",
       "      <td>0.08</td>\n",
       "      <td>612</td>\n",
       "      <td>1</td>\n",
       "    </tr>\n",
       "    <tr>\n",
       "      <th>8</th>\n",
       "      <td>0.09</td>\n",
       "      <td>484</td>\n",
       "      <td>1</td>\n",
       "    </tr>\n",
       "    <tr>\n",
       "      <th>9</th>\n",
       "      <td>0.10</td>\n",
       "      <td>392</td>\n",
       "      <td>1</td>\n",
       "    </tr>\n",
       "  </tbody>\n",
       "</table>\n",
       "</div>"
      ],
      "text/plain": [
       "   effect  sample size per group  length of experiment\n",
       "0    0.01                  38900                    53\n",
       "1    0.02                   9742                    14\n",
       "2    0.03                   4336                     6\n",
       "3    0.04                   2442                     4\n",
       "4    0.05                   1565                     3\n",
       "5    0.06                   1087                     2\n",
       "6    0.07                    799                     2\n",
       "7    0.08                    612                     1\n",
       "8    0.09                    484                     1\n",
       "9    0.10                    392                     1"
      ]
     },
     "execution_count": 16,
     "metadata": {},
     "output_type": "execute_result"
    }
   ],
   "source": [
    "ab_testing(data=cats, distribution='Binomial', date_column='day', experiment_unit_column='userid', metric='retention_1', alpha=0.05, power=0.8, two_sided=True).MDE(minimal_effect=0.01, maximum_effect=0.1, effect_step=0.01) "
   ]
  },
  {
   "cell_type": "code",
   "execution_count": 17,
   "id": "052df220",
   "metadata": {
    "ExecuteTime": {
     "end_time": "2023-12-30T16:17:13.045325Z",
     "start_time": "2023-12-30T16:17:12.819865Z"
    }
   },
   "outputs": [
    {
     "data": {
      "image/png": "[encoded data removed]",
      "text/plain": [
       "<Figure size 720x360 with 1 Axes>"
      ]
     },
     "execution_count": 17,
     "metadata": {},
     "output_type": "execute_result"
    }
   ],
   "source": [
    "experiment=ab_testing(data=cats, distribution='Binomial', date_column='day', metric='retention_1', \n",
    "                      alpha=0.05, power=0.8, two_sided=True, num_comparisons=1)\n",
    "\n",
    "experiment.MDE(minimal_effect=0.01, maximum_effect=0.1, effect_step=0.01, plot=True, annot=True) "
   ]
  },
  {
   "cell_type": "code",
   "execution_count": 18,
   "id": "46fd24cc",
   "metadata": {
    "ExecuteTime": {
     "end_time": "2023-12-30T16:17:13.303545Z",
     "start_time": "2023-12-30T16:17:13.287783Z"
    }
   },
   "outputs": [
    {
     "name": "stdout",
     "output_type": "stream",
     "text": [
      "{'alpha': 0.05, 'power': 0.8, 'two-sided experiment': True}\n"
     ]
    }
   ],
   "source": [
    "print(ab_testing(data=cats, distribution='Binomial', date_column='day', metric='retention_1', \n",
    "                      alpha=0.05, power=0.8, two_sided=True, delta=0.01))"
   ]
  },
  {
   "cell_type": "code",
   "execution_count": 19,
   "id": "f46acf53",
   "metadata": {
    "ExecuteTime": {
     "end_time": "2023-12-30T16:17:13.770197Z",
     "start_time": "2023-12-30T16:17:13.737768Z"
    }
   },
   "outputs": [
    {
     "name": "stdout",
     "output_type": "stream",
     "text": [
      "{'n': 36346,\n",
      " 'p1': 0.2,\n",
      " 'delta': 0.01,\n",
      " 'alpha': 0.05,\n",
      " 'power': 0.8,\n",
      " 'two-sided experiment': True,\n",
      " 'distribution': 'Binomial',\n",
      " 'number of comparisons': 4,\n",
      " 'correction': 'Bonferroni correction to family wise alpha was applied for every pairwise '\n",
      "               'comparison'}\n"
     ]
    }
   ],
   "source": [
    "print(ab_testing(delta=0.01, p1=0.2, alpha=0.05, power=0.8, two_sided=True, distribution='Binomial', num_comparisons=4))"
   ]
  },
  {
   "cell_type": "markdown",
   "id": "fb73e66a",
   "metadata": {},
   "source": [
    "# Clustered Experiments"
   ]
  },
  {
   "cell_type": "code",
   "execution_count": 20,
   "id": "ad220afb",
   "metadata": {
    "ExecuteTime": {
     "end_time": "2023-12-30T16:17:16.569019Z",
     "start_time": "2023-12-30T16:17:14.837058Z"
    }
   },
   "outputs": [],
   "source": [
    "# Creating an imaginary dataset\n",
    "\n",
    "np.random.seed=0\n",
    "\n",
    "x=np.random.dirichlet(alpha=np.random.gamma(3, 2, 1000))\n",
    "\n",
    "driver_id=np.random.choice(np.arange(1000), 100000, replace=True, p=x)\n",
    "\n",
    "df=pd.DataFrame({'driver_id':driver_id})\n",
    "df['weekday']=np.random.choice(np.arange(7), size=100000)\n",
    "df['reaction_time']=df.apply(lambda x: x.driver_id/1000 * x.weekday + np.random.rand() , axis=1)"
   ]
  },
  {
   "cell_type": "code",
   "execution_count": 21,
   "id": "1c3ae58c",
   "metadata": {
    "ExecuteTime": {
     "end_time": "2023-12-30T16:17:16.586769Z",
     "start_time": "2023-12-30T16:17:16.571101Z"
    }
   },
   "outputs": [
    {
     "data": {
      "text/html": [
       "<div>\n",
       "<style scoped>\n",
       "    .dataframe tbody tr th:only-of-type {\n",
       "        vertical-align: middle;\n",
       "    }\n",
       "\n",
       "    .dataframe tbody tr th {\n",
       "        vertical-align: top;\n",
       "    }\n",
       "\n",
       "    .dataframe thead th {\n",
       "        text-align: right;\n",
       "    }\n",
       "</style>\n",
       "<table border=\"1\" class=\"dataframe\">\n",
       "  <thead>\n",
       "    <tr style=\"text-align: right;\">\n",
       "      <th></th>\n",
       "      <th>driver_id</th>\n",
       "      <th>weekday</th>\n",
       "      <th>reaction_time</th>\n",
       "    </tr>\n",
       "  </thead>\n",
       "  <tbody>\n",
       "    <tr>\n",
       "      <th>0</th>\n",
       "      <td>896</td>\n",
       "      <td>6</td>\n",
       "      <td>5.616028</td>\n",
       "    </tr>\n",
       "    <tr>\n",
       "      <th>1</th>\n",
       "      <td>924</td>\n",
       "      <td>3</td>\n",
       "      <td>3.106354</td>\n",
       "    </tr>\n",
       "    <tr>\n",
       "      <th>2</th>\n",
       "      <td>880</td>\n",
       "      <td>2</td>\n",
       "      <td>2.094817</td>\n",
       "    </tr>\n",
       "    <tr>\n",
       "      <th>3</th>\n",
       "      <td>917</td>\n",
       "      <td>6</td>\n",
       "      <td>6.030972</td>\n",
       "    </tr>\n",
       "    <tr>\n",
       "      <th>4</th>\n",
       "      <td>928</td>\n",
       "      <td>1</td>\n",
       "      <td>1.922656</td>\n",
       "    </tr>\n",
       "  </tbody>\n",
       "</table>\n",
       "</div>"
      ],
      "text/plain": [
       "   driver_id  weekday  reaction_time\n",
       "0        896        6       5.616028\n",
       "1        924        3       3.106354\n",
       "2        880        2       2.094817\n",
       "3        917        6       6.030972\n",
       "4        928        1       1.922656"
      ]
     },
     "execution_count": 21,
     "metadata": {},
     "output_type": "execute_result"
    }
   ],
   "source": [
    "df.head()"
   ]
  },
  {
   "cell_type": "code",
   "execution_count": 22,
   "id": "ba91944e",
   "metadata": {
    "ExecuteTime": {
     "end_time": "2023-12-30T16:17:19.784743Z",
     "start_time": "2023-12-30T16:17:19.369761Z"
    }
   },
   "outputs": [
    {
     "data": {
      "text/plain": [
       "Text(0.5, 0, 'minutes')"
      ]
     },
     "execution_count": 22,
     "metadata": {},
     "output_type": "execute_result"
    },
    {
     "data": {
      "image/png": "[encoded data removed]",
      "text/plain": [
       "<Figure size 432x288 with 1 Axes>"
      ]
     },
     "metadata": {
      "needs_background": "light"
     },
     "output_type": "display_data"
    }
   ],
   "source": [
    "df.reaction_time.hist(bins=100, edgecolor='black' ,color='yellow')\n",
    "plt.title('Distribution of Reaction Times')\n",
    "plt.xlabel('minutes')"
   ]
  },
  {
   "cell_type": "code",
   "execution_count": 23,
   "id": "b6eebd3c",
   "metadata": {
    "ExecuteTime": {
     "end_time": "2023-12-30T16:19:13.544338Z",
     "start_time": "2023-12-30T16:17:19.920110Z"
    }
   },
   "outputs": [
    {
     "name": "stdout",
     "output_type": "stream",
     "text": [
      "False Positive Rate (Type I error): 0.777\n"
     ]
    }
   ],
   "source": [
    "from scipy.stats import ttest_ind\n",
    "\n",
    "def allocate_treatment(data: pd.DataFrame , user_column: str):\n",
    "    data['variant']=data.groupby([user_column])[user_column].transform(lambda x: np.random.choice(['A','B']))\n",
    "    return data\n",
    "\n",
    "iterations=1000\n",
    "number_significant=0\n",
    "pvalues=[]\n",
    "\n",
    "\n",
    "for i in range(iterations):\n",
    "    df=allocate_treatment(df, 'driver_id')\n",
    "    p_value=ttest_ind(df[df.variant=='A'].reaction_time , df[df.variant=='B'].reaction_time)[1]\n",
    "    pvalues.append(p_value)\n",
    "    number_significant+=p_value<0.05\n",
    "    \n",
    "\n",
    "print(f'False Positive Rate (Type I error): {number_significant/iterations}')\n",
    "   "
   ]
  },
  {
   "cell_type": "code",
   "execution_count": 24,
   "id": "89467cbb",
   "metadata": {
    "ExecuteTime": {
     "end_time": "2023-12-30T16:19:13.797112Z",
     "start_time": "2023-12-30T16:19:13.544338Z"
    }
   },
   "outputs": [
    {
     "data": {
      "text/plain": [
       "Text(0.5, 0, 'rides')"
      ]
     },
     "execution_count": 24,
     "metadata": {},
     "output_type": "execute_result"
    },
    {
     "data": {
      "image/png": "[encoded data removed]",
      "text/plain": [
       "<Figure size 432x288 with 1 Axes>"
      ]
     },
     "metadata": {
      "needs_background": "light"
     },
     "output_type": "display_data"
    }
   ],
   "source": [
    "\n",
    "#distribution of number of rides per driver\n",
    "\n",
    "df.groupby('driver_id').size().hist(bins=100, edgecolor='black' ,color='yellow')\n",
    "plt.title('Distribution number of rides per driver')\n",
    "plt.xlabel('rides')"
   ]
  },
  {
   "cell_type": "code",
   "execution_count": 25,
   "id": "d3804c6b",
   "metadata": {
    "ExecuteTime": {
     "end_time": "2023-12-30T16:19:13.814167Z",
     "start_time": "2023-12-30T16:19:13.798966Z"
    }
   },
   "outputs": [
    {
     "data": {
      "text/plain": [
       "999"
      ]
     },
     "execution_count": 25,
     "metadata": {},
     "output_type": "execute_result"
    }
   ],
   "source": [
    "df.driver_id.nunique()"
   ]
  },
  {
   "cell_type": "code",
   "execution_count": 26,
   "id": "5cbeac77",
   "metadata": {
    "ExecuteTime": {
     "end_time": "2023-12-30T16:22:40.697204Z",
     "start_time": "2023-12-30T16:19:13.814167Z"
    }
   },
   "outputs": [
    {
     "name": "stdout",
     "output_type": "stream",
     "text": [
      "The power of the test is 0.81\n"
     ]
    }
   ],
   "source": [
    "#instantiating the class and applying the clustered_power method for power analysis\n",
    "\n",
    "experiment=ab_testing(data=df, metric='reaction_time', alpha=0.05, distribution='Gaussian')\n",
    "\n",
    "experiment.clustered_power(cluster_col='driver_id' , iterations=400, verbose=False, num_variants=3, delta=0.19)"
   ]
  },
  {
   "cell_type": "code",
   "execution_count": 27,
   "id": "4fe3223d",
   "metadata": {
    "ExecuteTime": {
     "end_time": "2023-12-30T16:22:40.707329Z",
     "start_time": "2023-12-30T16:22:40.699039Z"
    }
   },
   "outputs": [
    {
     "name": "stdout",
     "output_type": "stream",
     "text": [
      "{'alpha': 0.05, 'power': None, 'two-sided experiment': True}\n"
     ]
    }
   ],
   "source": [
    "print(experiment)"
   ]
  },
  {
   "cell_type": "code",
   "execution_count": 28,
   "id": "ba614501",
   "metadata": {
    "ExecuteTime": {
     "end_time": "2023-12-30T16:22:40.727664Z",
     "start_time": "2023-12-30T16:22:40.707329Z"
    }
   },
   "outputs": [
    {
     "data": {
      "text/plain": [
       "variant\n",
       "A         NaN\n",
       "B   -0.022836\n",
       "Name: reaction_time, dtype: float64"
      ]
     },
     "execution_count": 28,
     "metadata": {},
     "output_type": "execute_result"
    }
   ],
   "source": [
    "df.groupby('variant').reaction_time.mean().diff()"
   ]
  },
  {
   "cell_type": "code",
   "execution_count": 29,
   "id": "411dd444",
   "metadata": {
    "ExecuteTime": {
     "end_time": "2023-12-30T16:22:41.517827Z",
     "start_time": "2023-12-30T16:22:40.729734Z"
    }
   },
   "outputs": [],
   "source": [
    "import statsmodels.api as sm\n",
    "    \n",
    "    \n",
    "family = sm.families.Gaussian()\n",
    "cov_struct=sm.cov_struct.Exchangeable()\n",
    "#df['variant']=np.where(df.variant=='A',1,0)\n",
    "model=sm.GEE.from_formula(f'{\"reaction_time\"} ~ {\" + \".join(df.iloc[:,3:].columns)}', data=df, groups='driver_id' , family=family, cov_struct=cov_struct)\n",
    "result=model.fit()"
   ]
  },
  {
   "cell_type": "code",
   "execution_count": 30,
   "id": "cb578622",
   "metadata": {
    "ExecuteTime": {
     "end_time": "2023-12-30T16:22:41.558430Z",
     "start_time": "2023-12-30T16:22:41.517827Z"
    }
   },
   "outputs": [
    {
     "data": {
      "text/html": [
       "<table class=\"simpletable\">\n",
       "<caption>GEE Regression Results</caption>\n",
       "<tr>\n",
       "  <th>Dep. Variable:</th>            <td>reaction_time</td>    <th>  No. Observations:  </th>  <td>100000</td> \n",
       "</tr>\n",
       "<tr>\n",
       "  <th>Model:</th>                         <td>GEE</td>         <th>  No. clusters:      </th>    <td>999</td>  \n",
       "</tr>\n",
       "<tr>\n",
       "  <th>Method:</th>                    <td>Generalized</td>     <th>  Min. cluster size: </th>     <td>1</td>   \n",
       "</tr>\n",
       "<tr>\n",
       "  <th></th>                      <td>Estimating Equations</td> <th>  Max. cluster size: </th>    <td>411</td>  \n",
       "</tr>\n",
       "<tr>\n",
       "  <th>Family:</th>                     <td>Gaussian</td>       <th>  Mean cluster size: </th>   <td>100.1</td> \n",
       "</tr>\n",
       "<tr>\n",
       "  <th>Dependence structure:</th>     <td>Exchangeable</td>     <th>  Num. iterations:   </th>     <td>4</td>   \n",
       "</tr>\n",
       "<tr>\n",
       "  <th>Date:</th>                   <td>Sat, 30 Dec 2023</td>   <th>  Scale:             </th>   <td>2.151</td> \n",
       "</tr>\n",
       "<tr>\n",
       "  <th>Covariance type: </th>            <td>robust</td>        <th>  Time:              </th> <td>17:22:41</td>\n",
       "</tr>\n",
       "</table>\n",
       "<table class=\"simpletable\">\n",
       "<tr>\n",
       "        <td></td>          <th>coef</th>     <th>std err</th>      <th>z</th>      <th>P>|z|</th>  <th>[0.025</th>    <th>0.975]</th>  \n",
       "</tr>\n",
       "<tr>\n",
       "  <th>Intercept</th>    <td>    2.0059</td> <td>    0.038</td> <td>   52.607</td> <td> 0.000</td> <td>    1.931</td> <td>    2.081</td>\n",
       "</tr>\n",
       "<tr>\n",
       "  <th>variant[T.B]</th> <td>   -0.0296</td> <td>    0.055</td> <td>   -0.541</td> <td> 0.588</td> <td>   -0.137</td> <td>    0.078</td>\n",
       "</tr>\n",
       "</table>\n",
       "<table class=\"simpletable\">\n",
       "<tr>\n",
       "  <th>Skew:</th>          <td>      0.9457</td> <th>  Kurtosis:          </th> <td>      0.2060</td>\n",
       "</tr>\n",
       "<tr>\n",
       "  <th>Centered skew:</th> <td>      0.0248</td> <th>  Centered kurtosis: </th> <td>      0.1724</td>\n",
       "</tr>\n",
       "</table>"
      ],
      "text/plain": [
       "<class 'statsmodels.iolib.summary.Summary'>\n",
       "\"\"\"\n",
       "                               GEE Regression Results                              \n",
       "===================================================================================\n",
       "Dep. Variable:               reaction_time   No. Observations:               100000\n",
       "Model:                                 GEE   No. clusters:                      999\n",
       "Method:                        Generalized   Min. cluster size:                   1\n",
       "                      Estimating Equations   Max. cluster size:                 411\n",
       "Family:                           Gaussian   Mean cluster size:               100.1\n",
       "Dependence structure:         Exchangeable   Num. iterations:                     4\n",
       "Date:                     Sat, 30 Dec 2023   Scale:                           2.151\n",
       "Covariance type:                    robust   Time:                         17:22:41\n",
       "================================================================================\n",
       "                   coef    std err          z      P>|z|      [0.025      0.975]\n",
       "--------------------------------------------------------------------------------\n",
       "Intercept        2.0059      0.038     52.607      0.000       1.931       2.081\n",
       "variant[T.B]    -0.0296      0.055     -0.541      0.588      -0.137       0.078\n",
       "==============================================================================\n",
       "Skew:                          0.9457   Kurtosis:                       0.2060\n",
       "Centered skew:                 0.0248   Centered kurtosis:              0.1724\n",
       "==============================================================================\n",
       "\"\"\""
      ]
     },
     "execution_count": 30,
     "metadata": {},
     "output_type": "execute_result"
    }
   ],
   "source": [
    "result.summary()"
   ]
  },
  {
   "cell_type": "code",
   "execution_count": 31,
   "id": "1b5d138f",
   "metadata": {
    "ExecuteTime": {
     "end_time": "2023-12-30T16:22:41.578735Z",
     "start_time": "2023-12-30T16:22:41.560468Z"
    }
   },
   "outputs": [],
   "source": [
    "cats['retention_1']=np.where(cats.retention_1==True, 1,0)"
   ]
  },
  {
   "cell_type": "code",
   "execution_count": 32,
   "id": "ba9e2097",
   "metadata": {
    "ExecuteTime": {
     "end_time": "2023-12-30T16:22:41.603884Z",
     "start_time": "2023-12-30T16:22:41.580764Z"
    }
   },
   "outputs": [
    {
     "ename": "SyntaxError",
     "evalue": "invalid syntax (Temp/ipykernel_31536/2945031716.py, line 18)",
     "output_type": "error",
     "traceback": [
      "\u001b[1;36m  File \u001b[1;32m\"C:\\Users\\gshoc\\AppData\\Local\\Temp/ipykernel_31536/2945031716.py\"\u001b[1;36m, line \u001b[1;32m18\u001b[0m\n\u001b[1;33m    z=np.sqrt(t)*norm.ppf(alpha_spending(t,alpha,method))/np.sqrt(t-)\u001b[0m\n\u001b[1;37m                                                                    ^\u001b[0m\n\u001b[1;31mSyntaxError\u001b[0m\u001b[1;31m:\u001b[0m invalid syntax\n"
     ]
    }
   ],
   "source": [
    "def gst(data, metric_col=None, proportion_sample_sizes=[0.2,0.4,0.6,0.8,1] , alpha=0.05, method='obf'):\n",
    "    sample=data[metric_col].values\n",
    "    sample_size=len(sample)\n",
    "    zeds=[]\n",
    "    \n",
    "    def alpha_spending(t,alpha, method):\n",
    "        if method=='obf':\n",
    "            a=2-2*norm.cdf(norm.cdf(1-alpha/2)**-1/np.sqrt(t))\n",
    "        elif method=='pocock':\n",
    "            a=alpha/2*np.log(1+(np.exp(1)-1)**t)\n",
    "        else:\n",
    "            a=alpha/2*t\n",
    "        return a\n",
    "    \n",
    "    for n,t in enumerate(proportion_sample_sizes[:]):\n",
    "        #z=np.sum([np.sqrt(proportion_sample_sizes[m+1]-proportion_sample_sizes[m]) * norm.ppf(alpha_spending(proportion_sample_sizes[n+1],alpha,method)) for m,i in enumerate(proportion_sample_sizes[:n-1])])/np.sqrt(np.sum([proportion_sample_sizes[m+1]-proportion_sample_sizes[m] for m,i in enumerate(proportion_sample_sizes[:n-1])]))\n",
    "        #z=norm.ppf(alpha_spending(t,alpha,method))/np.sqrt(t)\n",
    "        z=np.sqrt(t)*norm.ppf(alpha_spending(t,alpha,method))/np.sqrt(t-)\n",
    "        zeds.append(z)\n",
    "    return zeds\n",
    "    "
   ]
  },
  {
   "cell_type": "code",
   "execution_count": null,
   "id": "9a6c6ac1",
   "metadata": {
    "ExecuteTime": {
     "end_time": "2023-08-06T21:42:51.558977Z",
     "start_time": "2023-08-06T21:42:51.546997Z"
    }
   },
   "outputs": [],
   "source": [
    "norm.ppf(alpha_spending(i,0.05,'obf'))"
   ]
  },
  {
   "cell_type": "code",
   "execution_count": null,
   "id": "a7c8c69d",
   "metadata": {
    "ExecuteTime": {
     "end_time": "2023-08-06T21:42:53.029342Z",
     "start_time": "2023-08-06T21:42:53.007973Z"
    }
   },
   "outputs": [],
   "source": [
    "gst(data=cats, metric_col='retention_1', alpha=0.05, method='obf')"
   ]
  },
  {
   "cell_type": "code",
   "execution_count": 64,
   "id": "164e2376",
   "metadata": {
    "ExecuteTime": {
     "end_time": "2023-12-30T16:35:52.101228Z",
     "start_time": "2023-12-30T16:35:52.069226Z"
    }
   },
   "outputs": [],
   "source": [
    "def alpha_spending(t, alpha, method, tails):\n",
    "    \"\"\"\n",
    "    Implementing Lan-DeMets sequential boundaries based on approximation of O'Brian-Fleming and Pocock GST functions.  \n",
    "    \n",
    "    t: proportion of data seen until the moment of peeking, in comparison to total expected data (non-clustered design)\n",
    "    alpha: type 1 error rate. \n",
    "        'obf': O'Brian-Fleming\n",
    "        'pocock': Pocock\n",
    "        'uniform': uniform\n",
    "    method: alpha spending method \n",
    "    tails: one or two-sided experiment\n",
    "    \"\"\"\n",
    "    if method=='obf':\n",
    "        a=2-2*norm.cdf(norm.ppf(1-(alpha/(2*tails)))/np.sqrt(t))\n",
    "    elif method=='pocock':\n",
    "        a=alpha/tails * np.log(1+(np.exp(1)-1)*t)\n",
    "    elif method=='uniform':\n",
    "        a= alpha/tails * t\n",
    "    boundaries=[norm.ppf(a) , norm.ppf(1-a)]\n",
    "    a=a*tails\n",
    "    \n",
    "    return {'adjusted alpha': round(a,5),\n",
    "            'upper boundary': round(np.max(boundaries),3),\n",
    "            'lower boundary': round(np.min(boundaries),3)}"
   ]
  },
  {
   "cell_type": "code",
   "execution_count": 65,
   "id": "31596293",
   "metadata": {
    "ExecuteTime": {
     "end_time": "2023-12-30T16:35:52.779075Z",
     "start_time": "2023-12-30T16:35:52.763070Z"
    }
   },
   "outputs": [],
   "source": [
    "def clustered_power(df, cluster_cols: str , metric_col: str , num_variants: int  , effect: float, alpha: float, iterations: int, verbose=True):\n",
    "    import statsmodels.api as sm\n",
    "    \n",
    "    \n",
    "    family = sm.families.Gaussian()\n",
    "    cov_struct=sm.cov_struct.Exchangeable()\n",
    "    \n",
    "    def allocate_treatment(df, cluster_cols, metric_col, num_variants):\n",
    "        clusters=df[cluster_cols].unique()\n",
    "        treatments=[np.random.choice(num_variants,1)[0] for i in clusters]\n",
    "        clusters=pd.DataFrame({'clusters':clusters, 'treatments':treatments})\n",
    "        clusters=pd.get_dummies(clusters, columns=['treatments'], drop_first=True)\n",
    "        df=df.merge(clusters, how='left', left_on=cluster_cols, right_on='clusters')\n",
    "        df=df.drop('clusters', axis=1)\n",
    "        return df\n",
    "    def add_effect(data,effect):\n",
    "        data[metric_col]=np.where(data.iloc[:,2]==1, data[metric_col]+effect, data[metric_col])\n",
    "        return data\n",
    "    num_significant=0\n",
    "    n=1\n",
    "    for i in range(iterations):\n",
    "        data=df[[cluster_cols, metric_col]].copy()\n",
    "        \n",
    "        data=add_effect(allocate_treatment(data, cluster_cols, metric_col, num_variants)   , effect)\n",
    "        model=sm.GEE.from_formula(f'{metric_col} ~ {\" + \".join(data.iloc[:,2:].columns)}', data=data, groups=cluster_cols , family=family, cov_struct=cov_struct)\n",
    "        result=model.fit()\n",
    "        num_significant+=result.pvalues[1]<alpha\n",
    "        if verbose:\n",
    "            print(f'Iteration {n}')\n",
    "        n+=1\n",
    "\n",
    "    return num_significant/iterations\n"
   ]
  },
  {
   "cell_type": "code",
   "execution_count": 67,
   "id": "c7777a6b",
   "metadata": {
    "ExecuteTime": {
     "end_time": "2023-12-30T16:36:05.689763Z",
     "start_time": "2023-12-30T16:36:05.667904Z"
    }
   },
   "outputs": [
    {
     "data": {
      "text/plain": [
       "{'adjusted alpha': 0.05, 'upper boundary': 1.96, 'lower boundary': -1.96}"
      ]
     },
     "execution_count": 67,
     "metadata": {},
     "output_type": "execute_result"
    }
   ],
   "source": [
    "alpha_spending(t=1, alpha=0.05, method='obf', tails=2)"
   ]
  },
  {
   "cell_type": "code",
   "execution_count": 39,
   "id": "0946dadf",
   "metadata": {
    "ExecuteTime": {
     "end_time": "2023-12-30T16:26:56.153945Z",
     "start_time": "2023-12-30T16:26:55.856983Z"
    }
   },
   "outputs": [
    {
     "data": {
      "text/plain": [
       "<Axes: >"
      ]
     },
     "execution_count": 39,
     "metadata": {},
     "output_type": "execute_result"
    },
    {
     "data": {
      "image/png": "[encoded data removed]",
      "text/plain": [
       "<Figure size 432x288 with 1 Axes>"
      ]
     },
     "metadata": {
      "needs_background": "light"
     },
     "output_type": "display_data"
    }
   ],
   "source": [
    "bound=pd.DataFrame()\n",
    "n=0\n",
    "for i in np.arange(0.1, 1.1, 0.1):\n",
    "    for j in ['obf','pocock','uniform']:\n",
    "        result=alpha_spending(t=i, alpha=0.05, method=j, tails=2)\n",
    "        result['proportion']=i\n",
    "        result['method']=j\n",
    "        result=pd.DataFrame(result, index=[n])\n",
    "        n+=1\n",
    "        bound=pd.concat([bound, result])\n",
    "        \n",
    "import seaborn as sns\n",
    "sns.lineplot(data=bound, x=bound['proportion'].values, y=bound['upper boundary'].values, hue=bound['method'].values)\n",
    "sns.lineplot(data=bound, x=bound['proportion'].values, y=bound['lower boundary'].values, hue=bound['method'].values, legend=False)\n",
    "\n"
   ]
  },
  {
   "cell_type": "code",
   "execution_count": null,
   "id": "3ea0d842",
   "metadata": {
    "ExecuteTime": {
     "end_time": "2023-08-27T21:50:33.127807Z",
     "start_time": "2023-08-27T21:50:33.116809Z"
    }
   },
   "outputs": [],
   "source": [
    "bound[(bound.method=='pocock')].alpha.sum()/2"
   ]
  },
  {
   "cell_type": "code",
   "execution_count": null,
   "id": "bdb0b3ef",
   "metadata": {
    "ExecuteTime": {
     "end_time": "2023-08-27T21:50:33.797907Z",
     "start_time": "2023-08-27T21:50:33.771910Z"
    }
   },
   "outputs": [],
   "source": [
    "bound"
   ]
  },
  {
   "cell_type": "code",
   "execution_count": 88,
   "id": "e8942765",
   "metadata": {
    "ExecuteTime": {
     "end_time": "2023-12-30T16:49:46.936631Z",
     "start_time": "2023-12-30T16:49:46.919547Z"
    }
   },
   "outputs": [],
   "source": [
    "from typing import List, Optional, Literal\n",
    "\n",
    "class Analysis:\n",
    "\n",
    "    \"\"\"class for analysis of experiment results\"\"\"\n",
    "\n",
    "    def __init__(self,\n",
    "                 df: pd.DataFrame = None,\n",
    "                 metrics: List[str] = None,\n",
    "                 test:str = 't-test',\n",
    "                 treatment_col: str = None,\n",
    "                 cluster_cols: Optional[List[str]] = None,\n",
    "                 alpha: float = 0.05,\n",
    "                 correction: Optional[Literal['bonferroni','hb']] = None,\n",
    "                 alternative: Literal['two-sided','greater','less'] = 'two-sided',\n",
    "                 covariates: Optional[List[str]] = None):\n",
    "        \n",
    "        self.data = df\n",
    "        self.treatment_col = treatment_col\n",
    "        self.cluster_cols = cluster_cols\n",
    "        self.alpha = alpha\n",
    "        self.correction = correction\n",
    "        self.alternative = alternative\n",
    "        self.covaariates = covariates\n",
    "\n",
    "    def __repr__(self):\n",
    "        return str(self.__dict__)\n",
    "    \n",
    "    \n",
    "    \n"
   ]
  },
  {
   "cell_type": "code",
   "execution_count": 89,
   "id": "265d60b6",
   "metadata": {
    "ExecuteTime": {
     "end_time": "2023-12-30T16:49:47.506753Z",
     "start_time": "2023-12-30T16:49:47.496158Z"
    }
   },
   "outputs": [],
   "source": [
    "a = Analysis(df = df, cluster_cols = 'driver_id', treatment_col = 'variant', metrics = 'reaction_time')"
   ]
  },
  {
   "cell_type": "code",
   "execution_count": 90,
   "id": "132422c6",
   "metadata": {
    "ExecuteTime": {
     "end_time": "2023-12-30T16:49:48.161333Z",
     "start_time": "2023-12-30T16:49:48.141639Z"
    }
   },
   "outputs": [
    {
     "name": "stdout",
     "output_type": "stream",
     "text": [
      "{'data':        driver_id  weekday  reaction_time variant\n",
      "0            896        6       5.616028       B\n",
      "1            924        3       3.106354       B\n",
      "2            880        2       2.094817       A\n",
      "3            917        6       6.030972       B\n",
      "4            928        1       1.922656       A\n",
      "...          ...      ...            ...     ...\n",
      "99995         87        2       1.144648       B\n",
      "99996        193        6       1.855002       B\n",
      "99997        487        1       1.232556       A\n",
      "99998        514        5       2.739395       B\n",
      "99999        707        6       4.935664       A\n",
      "\n",
      "[100000 rows x 4 columns], 'treatment_col': 'variant', 'cluster_cols': 'driver_id', 'alpha': 0.05, 'correction': None, 'alternative': 'two-sided', 'covaariates': None}\n"
     ]
    }
   ],
   "source": [
    "print(a)"
   ]
  },
  {
   "cell_type": "code",
   "execution_count": null,
   "id": "2b536bf2",
   "metadata": {},
   "outputs": [],
   "source": []
  }
 ],
 "metadata": {
  "kernelspec": {
   "display_name": "Python 3 (ipykernel)",
   "language": "python",
   "name": "python3"
  },
  "language_info": {
   "codemirror_mode": {
    "name": "ipython",
    "version": 3
   },
   "file_extension": ".py",
   "mimetype": "text/x-python",
   "name": "python",
   "nbconvert_exporter": "python",
   "pygments_lexer": "ipython3",
   "version": "3.9.7"
  }
 },
 "nbformat": 4,
 "nbformat_minor": 5
}
