{
 "cells": [
  {
   "cell_type": "code",
   "execution_count": 209,
   "id": "8e1ce399",
   "metadata": {
    "ExecuteTime": {
     "end_time": "2023-08-13T20:47:02.861667Z",
     "start_time": "2023-08-13T20:47:02.794051Z"
    }
   },
   "outputs": [],
   "source": [
    "\n",
    "import warnings\n",
    "import numpy as np\n",
    "import pandas as pd\n",
    "import matplotlib.pyplot as plt\n",
    "from scipy.stats import norm\n",
    "import datetime\n",
    "from scipy import optimize\n",
    "import pprint\n",
    "\n",
    "\n",
    "class Gaussian():\n",
    "    \n",
    "    def __init__(self, n=None, delta=None, alpha=None, power=None, sd=None,  two_sided=True):\n",
    "        # method that initializes the instance of the Normal class\n",
    "        \"\"\" n - minimal sample size for one group\n",
    "        delta - effect size \n",
    "        alpha - significance level (Type I error)\n",
    "        power - power of the test while 0.8 being the default  (1 minus Type II error)\n",
    "        sd    - standard deviation in the control group\n",
    "        tails - default two sided test \n",
    "        \"\"\"\n",
    "        #if is None:\n",
    "         #   raise Exception(\"Parameter mean_control_group must be specified\")  \n",
    "\n",
    "        if sum([n is None, delta is None,alpha is None,power is None,sd is None])!=1:\n",
    "            print(sum([n is None, delta is None, alpha is None, power is None, sd is None]))\n",
    "            raise Exception(\"One and only one of the parameters n, delta, alpha, power, sd must be None\")\n",
    "        elif np.abs(any([alpha, power]))>1:\n",
    "            raise ValueError(\"any of the arguments alpha, power must be within range 0-1\") \n",
    "        else:\n",
    "            self.delta=delta\n",
    "            self.power=power\n",
    "            self.alpha=alpha\n",
    "            self.sd=sd\n",
    "            self.two_sided = two_sided\n",
    "            self.z_score_a=norm.ppf(1-self.alpha/(1 if self.two_sided==False else 2)) if alpha is not None else None\n",
    "            self.z_score_b=norm.ppf(self.power) if power is not None else None\n",
    "            #self.mean_test_group=self.delta if self.delta is None else self.mean_control_group + self.delta\n",
    "            \n",
    "            # sample size attribute will be the floor of the provided argument (integer of sample available) or the ceiling of the calculated value (based on other parameters).\n",
    "            self.n=self.Sample_Size_() if n is None else np.floor(n)\n",
    "            self.power=self.Power_() if self.power is None else power\n",
    "            self.delta=self.Delta_() if self.delta is None else delta\n",
    "            self.alpha=self.Alpha_() if self.alpha is None else alpha\n",
    "            self.sd=self.SD_() if self.sd is None else sd\n",
    "            self.params={'n': int(np.ceil(self.n)), 'delta': round(self.delta,4), 'alpha': round(self.alpha,4), 'power': round(self.power,4), 'sd': round(self.sd, 4), 'two-sided experiment': self.two_sided}\n",
    "\n",
    "    #def params_(self):\n",
    "         # method which returns the parameters and arguments of the class\n",
    "     #    return \"n: {}, delta: {}, alpha: {}, power: {}, standard deviation: {}, two-sided experiment: {}\".format(self.n,  self.delta, self.alpha, self.power, self.sd, self.two_sided)\n",
    "     \n",
    "    def Sample_Size_(self)-> int:\n",
    "         # method that returns the minimal sample size of one group given other arguments\n",
    "\n",
    "        n=2*self.sd**2 * (self.z_score_a + self.z_score_b)**2 / (self.delta)**2\n",
    "        return n\n",
    "    \n",
    "    def Power_(self)-> float:\n",
    "        # method that returns the power of the test given other arguments\n",
    "\n",
    "        self.z_score_b = np.sqrt((self.n * (self.delta)**2)/(2*self.sd**2)) - self.z_score_a \n",
    "        power = norm.cdf(self.z_score_b)\n",
    "        return power\n",
    "    \n",
    "    def Alpha_(self)-> float:\n",
    "        # method that returns the probability of type 1 error (p_value) of the test given other arguments\n",
    "\n",
    "        self.z_score_a= np.sqrt((self.n * (self.delta)**2)/(2*self.sd**2)) - self.z_score_b\n",
    "        alpha=self.alpha=(1-norm.cdf(self.z_score_a)) * (1 if self.two_sided==False else 2)\n",
    "        return alpha\n",
    "\n",
    "    def Delta_(self)-> float:\n",
    "        # method that returns the delta of the test given other arguments\n",
    "\n",
    "        delta = np.sqrt((2*self.sd**2 * (self.z_score_a + self.z_score_b)**2)/self.n)\n",
    "        return delta\n",
    "    \n",
    "    def SD_(self)-> float:\n",
    "        # method that returns the standard deviation of the test given other arguments\n",
    "\n",
    "        sd = np.sqrt(self.n * (self.delta)**2/(2* (self.z_score_a + self.z_score_b)**2))\n",
    "        return sd\n",
    "     \n",
    "\n",
    "\n",
    "class Binomial(): \n",
    "\n",
    "    def __init__(self, n=None, p1=None, delta=None, alpha=None, power=None, two_sided=True):\n",
    " \n",
    "        # method that initializes the instance of the Binomial class\n",
    "        \"\"\" n - minimal sample size for one group\n",
    "        p - probability of success in control group\n",
    "        delta - effect size \n",
    "        alpha - significance level (Type I error)\n",
    "        power - power of the test while 0.8 being the default  (1 minus Type II error)\n",
    "        tails - default two sided test \n",
    "        \"\"\"\n",
    "\n",
    "        if sum([p1 is None, n is None, delta is None, alpha is None, power is None])!=1:\n",
    "            raise Exception(\"One and only one of the parameters n, delta, alpha, power must be None\")\n",
    "        elif np.abs(any([alpha, power]))>1:\n",
    "            raise ValueError(\"any of the arguments alpha, power must be within range 0-1\")\n",
    "        elif delta is not None and np.abs(delta)>1:\n",
    "            raise ValueError(\"delta must be within range 0-1\") \n",
    "        else:\n",
    "            self.p1=p1\n",
    "            self.delta=delta\n",
    "            self.power=power\n",
    "            self.alpha=alpha\n",
    "            self.two_sided = two_sided\n",
    "            self.p2=self.p1 + self.delta if self.delta is not None and self.p1 is not None else None\n",
    "            self.z_score_a=norm.ppf(1-self.alpha/(1 if self.two_sided==False else 2)) if alpha is not None else None\n",
    "            self.z_score_b=norm.ppf(self.power) if power is not None else None\n",
    "\n",
    "            # sample size attribute will be the floor of the provided argument (integer of sample available) or the ceiling of the calculated value (based on other parameters).\n",
    "            self.n=self.Sample_Size() if n is None else np.floor(n)\n",
    "            self.p1=self.Probability_Control() if p1 is None else p1\n",
    "            self.power=self.Power() if self.power is None else power\n",
    "            self.delta=self.Delta() if self.delta is None else delta\n",
    "            self.alpha=self.Alpha() if self.alpha is None else alpha\n",
    "            self.params={\"n\": int(np.ceil(self.n)), \"p1\": self.p1, \"delta\": self.delta, \"alpha\": self.alpha, \"power\": self.power, \"two-sided experiment\": self.two_sided}\n",
    "     \n",
    "\n",
    "    def Sample_Size(self)-> int:\n",
    "         # method that returns the minimal sample size of one group given other arguments\n",
    "        n=(self.z_score_a * np.sqrt((self.p1+self.p2)*(1-self.p1 + 1-self.p2)/2) + self.z_score_b*np.sqrt((self.p1*(1-self.p1)) + (self.p2 * (1-self.p2))))**2/self.delta**2\n",
    "\n",
    "        # http://meteo.edu.vn/GiaoTrinhXS/e-book/PQ220-6234F.Ch-10.pdf\n",
    "        return n\n",
    "    \n",
    "    def Probability_Control(self)-> float:\n",
    "        # method that returns the probability of success in control group\n",
    "        warnings.filterwarnings(\"ignore\", category = RuntimeWarning)\n",
    "        def func(p1):\n",
    "            return (self.z_score_a * np.sqrt((2*p1+self.delta)*(1-p1 + 1-p1-self.delta)/2) + self.z_score_b*np.sqrt((p1*(1-p1)) + ((p1+self.delta) * (1-p1-self.delta))))**2/self.delta**2 - self.n\n",
    "        p1=round(optimize.bisect(func, a=0, b=1), 2)\n",
    "        warnings.filterwarnings(\"always\", category = RuntimeWarning)\n",
    "        return p1\n",
    "\n",
    "    def Power(self)-> float:\n",
    "        # method that returns the power of the test given other arguments\n",
    "        self.z_score_b=(np.sqrt(self.n * self.delta**2) - self.z_score_a * np.sqrt((self.p1+self.p2)*(1-self.p1 + 1-self.p2)/2))* 1/np.sqrt((self.p1*(1-self.p1)) + (self.p2 * (1-self.p2))) \n",
    "        power=norm.cdf(self.z_score_b)\n",
    "        return power\n",
    "    \n",
    "    def Alpha(self)-> float:\n",
    "        # method that returns the probability of type 1 error (p_value) of the test given other arguments\n",
    "        self.z_score_a=(np.sqrt(self.n * self.delta**2)-self.z_score_b*np.sqrt((self.p1*(1-self.p1)) + (self.p2 * (1-self.p2))))/np.sqrt((self.p1+self.p2)*(1-self.p1 + 1-self.p2)/2) \n",
    "        alpha=self.alpha=(1-norm.cdf(self.z_score_a)) * (1 if self.two_sided==False else 2)\n",
    "        return alpha\n",
    "\n",
    "    def Delta(self)-> float:\n",
    "        # method that returns the delta of the test given other arguments\n",
    "        warnings.filterwarnings(\"ignore\", category = RuntimeWarning)\n",
    "        def func(delta):\n",
    "            return (self.z_score_a * np.sqrt((2*self.p1+delta)*(1-self.p1 + 1-self.p1-delta)/2) + self.z_score_b*np.sqrt((self.p1*(1-self.p1)) + ((self.p1+delta) * (1-self.p1-delta))))**2/delta**2 - self.n\n",
    "        delta=round(optimize.bisect(func, a=0, b=1), 4)\n",
    "        warnings.filterwarnings(\"always\", category = RuntimeWarning)\n",
    "        return delta\n",
    "\n",
    "\n",
    "class ab_testing(Binomial,Gaussian):\n",
    "\n",
    "    def __init__(self, data=None, metric=None, distribution=None ,date_column=None, experiment_unit_column=None, n=None, p1=None, delta=None, alpha=None, power=None, sd=None ,two_sided=True, num_comparisons=2):\n",
    "        \n",
    "        self.data=data\n",
    "        self.num_comparisons=num_comparisons\n",
    "        if num_comparisons>2:\n",
    "            alpha=alpha/self.num_comparisons if alpha is not None else None\n",
    "        \n",
    "        if distribution in [\"Binomial\", \"Gaussian\", \"Normal\"]:\n",
    "            self.distribution=distribution\n",
    "        else: \n",
    "            raise ValueError('Distribution must be \"Binomial\" , \"Gaussian\" or \"Normal\"')\n",
    "        if data is not None:\n",
    "            \n",
    "            self.metric=metric\n",
    "            self.date_column=date_column\n",
    "            self.experiment_unit_column=experiment_unit_column\n",
    "            if distribution=='Binomial':\n",
    "                self.p1=self.data[self.metric].mean()\n",
    "            else:\n",
    "                self.sd=np.std(self.data[self.metric].values, ddof=1)\n",
    "                \n",
    "            self.alpha=alpha\n",
    "            self.power=power\n",
    "            self.two_sided=two_sided\n",
    "            \n",
    "        else:\n",
    "            if distribution=='Binomial':\n",
    "                Binomial.__init__(self, n, p1, delta, alpha, power, two_sided)\n",
    "            elif distribution in ('Normal','Gaussian'):\n",
    "                Gaussian.__init__(self, n, delta, alpha, power, sd,  two_sided)\n",
    "\n",
    "    def __str__(self):\n",
    "        # method which returns the parameters and arguments of the ab-testing instance\n",
    "         if self.data is None:\n",
    "            self.params['distribution']=self.distribution\n",
    "            if self.num_comparisons>2:\n",
    "                self.params['number of comparisons']=self.num_comparisons\n",
    "                self.params['alpha']=self.alpha*self.num_comparisons\n",
    "                self.params['correction']='Bonferroni correction to family wise alpha was applied for every pairwise comparison'\n",
    "            return pprint.pformat(width=100, object=self.params, sort_dicts=False)\n",
    "         else:\n",
    "            self.params={}\n",
    "    \n",
    "         \n",
    "         \n",
    "\n",
    "# method which returns the Minimal Detectable Effect experiment time estimation for an array of effect values.\n",
    "\n",
    "    def MDE(self, events_per_time_unit_and_variant=None ,minimal_effect=None, maximal_effect=None, effect_step=None, two_sided=True, plot=False, save_path=None, **plot_kwargs):\n",
    "        # produces an array of delta values\n",
    "        if not all([minimal_effect,maximal_effect,effect_step]):\n",
    "            raise ValueError('The values of minimal_effect, maximal_effect, effect_step cannot be None')\n",
    "        #array of effect size values\n",
    "        effect_magnitudes=np.arange(minimal_effect,maximal_effect + effect_step ,effect_step)\n",
    "        #list of experiment days needed for corresponding effect\n",
    "        days=[]\n",
    "        sizes=[]\n",
    "\n",
    "        if self.data is not None:\n",
    "\n",
    "            #calculates number of time units present in the dataset\n",
    "            self.length_input_data = self.data[self.date_column].nunique()\n",
    "            #calculates the floor of events per time unit\n",
    "            self.events_per_time_unit_and_variant=np.floor(len(self.data[(self.data)[self.metric].notnull()])/self.length_input_data/self.num_comparisons)\n",
    "            #the metric of interest base value\n",
    "            pre_experiment_value=self.data[self.metric].mean()\n",
    "            \n",
    "        else:\n",
    "            if events_per_time_unit_and_variant is None:\n",
    "                raise ValueError('if data with temporal dimension is not provided, number of events per time unit and variant must be specified')\n",
    "                \n",
    "            else:\n",
    "                self.events_per_time_unit_and_variant=events_per_time_unit_and_variant\n",
    "            \n",
    "        \n",
    "        for i in effect_magnitudes:\n",
    "            self.delta=i\n",
    "            \n",
    "            if self.distribution in ('Binomial'):\n",
    "                \n",
    "                self.p1=self.p1 if self.p1 is not None else pre_experiment_value\n",
    "                self.p2=self.p1 + self.delta\n",
    "                Binomial.__init__(self, n=None , p1=self.p1 , delta=self.delta, alpha=self.alpha/self.num_comparisons , power=self.power, two_sided=self.two_sided)\n",
    "                n=self.n\n",
    "            else:\n",
    "                Gaussian.__init__(self, n=None , sd=self.sd , delta=self.delta, alpha=self.alpha/self.num_comparisons, power=self.power, two_sided=self.two_sided)\n",
    "                n=self.n\n",
    "            sizes.append(int(np.ceil(n)))\n",
    "            days.append(int(np.ceil(n/self.events_per_time_unit_and_variant)))\n",
    "\n",
    "        results=pd.DataFrame({'effect':effect_magnitudes,'sample size per group':sizes ,'length of experiment':days})\n",
    "        self.delta=effect_magnitudes\n",
    "        self.n=sizes\n",
    "        self.experiment_length=days\n",
    "        \n",
    "        if not plot: \n",
    "            self.mde=results\n",
    "            return self.mde\n",
    "        else: \n",
    "            self.mde=self.Plot_MDE(save_path, results, **plot_kwargs)\n",
    "            return self.mde\n",
    "    \n",
    "    def Plot_MDE(self, save_path=None ,results=None, figsize=(10,5), title='MDE', marker='o', ls='-',annot=True, **plot_kwargs):\n",
    "\n",
    "        fig=plt.figure(figsize=figsize)\n",
    "        ax=plt.axes()\n",
    "        ax.grid(visible=True, linewidth=2)\n",
    "        ax.set_title(title)\n",
    "        ax.set_xlabel('Length of Experiment')\n",
    "        ax.set_ylabel(u'Effect Δ')\n",
    "        ax.plot(results['length of experiment'].values, results['effect'].values, marker=marker, ls=ls, **plot_kwargs)\n",
    "        if annot==True:\n",
    "            for i in range(len(results)):\n",
    "                plt.annotate(xy=(results['length of experiment'].values[i]+np.min([25,results['length of experiment'].min()]), results['effect'].values[i]), text=results['length of experiment'].values[i])\n",
    "                \n",
    "        ax.set_xlim(-1*(results['length of experiment'].max()*1.05-results['length of experiment'].max()), results['length of experiment'].values[i]+results['length of experiment'].max()*1.05)\n",
    "        fig=ax.figure\n",
    "        if save_path is not None:\n",
    "            fig.savefig(save_path)\n",
    "        else:\n",
    "            plt.close()\n",
    "            return fig\n",
    "       \n",
    "\n"
   ]
  },
  {
   "cell_type": "code",
   "execution_count": 210,
   "id": "0ee7d9f2",
   "metadata": {
    "ExecuteTime": {
     "end_time": "2023-08-13T20:47:03.082040Z",
     "start_time": "2023-08-13T20:47:03.071026Z"
    }
   },
   "outputs": [
    {
     "data": {
      "text/plain": [
       "{'n': 14128,\n",
       " 'delta': 0.02,\n",
       " 'alpha': 0.05,\n",
       " 'power': 0.8,\n",
       " 'sd': 0.6,\n",
       " 'two-sided experiment': True}"
      ]
     },
     "execution_count": 210,
     "metadata": {},
     "output_type": "execute_result"
    }
   ],
   "source": [
    "#Obteniendo la deviación estandar\n",
    "\n",
    "Gaussian(n=14128, delta=0.02, alpha=0.05 ,power=0.8, two_sided=True).params\n"
   ]
  },
  {
   "cell_type": "code",
   "execution_count": 211,
   "id": "442de255",
   "metadata": {
    "ExecuteTime": {
     "end_time": "2023-08-13T20:47:03.652923Z",
     "start_time": "2023-08-13T20:47:03.633540Z"
    }
   },
   "outputs": [
    {
     "data": {
      "text/plain": [
       "{'n': 14128,\n",
       " 'delta': 0.02,\n",
       " 'alpha': 0.05,\n",
       " 'power': 0.8,\n",
       " 'sd': 0.6,\n",
       " 'two-sided experiment': True}"
      ]
     },
     "execution_count": 211,
     "metadata": {},
     "output_type": "execute_result"
    }
   ],
   "source": [
    "#obteniendo alpha (nivel de significado del test)\n",
    "\n",
    "Gaussian(n=14128, delta=0.02 ,power=0.8, sd=0.6, two_sided=True).params"
   ]
  },
  {
   "cell_type": "code",
   "execution_count": 212,
   "id": "22aedf58",
   "metadata": {
    "ExecuteTime": {
     "end_time": "2023-08-13T20:47:03.683923Z",
     "start_time": "2023-08-13T20:47:03.672920Z"
    }
   },
   "outputs": [
    {
     "data": {
      "text/plain": [
       "{'n': 14128,\n",
       " 'delta': 0.02,\n",
       " 'alpha': 0.05,\n",
       " 'power': 0.8,\n",
       " 'sd': 0.6,\n",
       " 'two-sided experiment': True}"
      ]
     },
     "execution_count": 212,
     "metadata": {},
     "output_type": "execute_result"
    }
   ],
   "source": [
    "#obteniendo power (potencia del test)\n",
    "\n",
    "Gaussian(n=14128, delta=0.02,  alpha=0.05 ,sd=0.6, two_sided=True).params"
   ]
  },
  {
   "cell_type": "code",
   "execution_count": 225,
   "id": "cac4aa03",
   "metadata": {
    "ExecuteTime": {
     "end_time": "2023-08-13T20:52:35.794786Z",
     "start_time": "2023-08-13T20:52:35.786784Z"
    }
   },
   "outputs": [
    {
     "data": {
      "text/plain": [
       "{'n': 14128,\n",
       " 'delta': 0.02,\n",
       " 'alpha': 0.05,\n",
       " 'power': 0.8,\n",
       " 'sd': 0.6,\n",
       " 'two-sided experiment': True}"
      ]
     },
     "execution_count": 225,
     "metadata": {},
     "output_type": "execute_result"
    }
   ],
   "source": [
    "Gaussian(n=14128, alpha=0.05, power=0.8, sd=0.6 ,two_sided=True).params"
   ]
  },
  {
   "cell_type": "code",
   "execution_count": 228,
   "id": "1a6a1c16",
   "metadata": {
    "ExecuteTime": {
     "end_time": "2023-08-13T20:56:05.193772Z",
     "start_time": "2023-08-13T20:56:05.184770Z"
    }
   },
   "outputs": [
    {
     "data": {
      "text/plain": [
       "{'n': 25583,\n",
       " 'p1': 0.2,\n",
       " 'delta': 0.01,\n",
       " 'alpha': 0.05,\n",
       " 'power': 0.8,\n",
       " 'two-sided experiment': True}"
      ]
     },
     "execution_count": 228,
     "metadata": {},
     "output_type": "execute_result"
    }
   ],
   "source": [
    "#Usage of Binomial class:\n",
    "\n",
    "Binomial(p1=0.2, delta=0.01, alpha=0.05, power=0.8).params"
   ]
  },
  {
   "cell_type": "code",
   "execution_count": 230,
   "id": "f6686daf",
   "metadata": {
    "ExecuteTime": {
     "end_time": "2023-08-13T21:10:12.311409Z",
     "start_time": "2023-08-13T21:10:12.302201Z"
    }
   },
   "outputs": [
    {
     "data": {
      "text/plain": [
       "0.8045654450900508"
      ]
     },
     "execution_count": 230,
     "metadata": {},
     "output_type": "execute_result"
    }
   ],
   "source": [
    "#instantiating the ab_testing class object:\n",
    "\n",
    "a=Binomial(n=25883, p1=0.2, delta=0.01, alpha=0.05)\n",
    "\n",
    "a.power"
   ]
  },
  {
   "cell_type": "code",
   "execution_count": 216,
   "id": "f46acf53",
   "metadata": {
    "ExecuteTime": {
     "end_time": "2023-08-13T20:47:04.899515Z",
     "start_time": "2023-08-13T20:47:04.887738Z"
    }
   },
   "outputs": [
    {
     "name": "stdout",
     "output_type": "stream",
     "text": [
      "{'n': 36346,\n",
      " 'p1': 0.2,\n",
      " 'delta': 0.01,\n",
      " 'alpha': 0.05,\n",
      " 'power': 0.8,\n",
      " 'two-sided experiment': True,\n",
      " 'distribution': 'Binomial',\n",
      " 'number of comparisons': 4,\n",
      " 'correction': 'Bonferroni correction to family wise alpha was applied for every pairwise '\n",
      "               'comparison'}\n"
     ]
    }
   ],
   "source": [
    "print(ab_testing(delta=0.01, p1=0.2, alpha=0.05, power=0.8, two_sided=True, distribution='Binomial', num_comparisons=4))"
   ]
  },
  {
   "cell_type": "code",
   "execution_count": 232,
   "id": "e3cf544e",
   "metadata": {
    "ExecuteTime": {
     "end_time": "2023-08-13T21:18:20.540512Z",
     "start_time": "2023-08-13T21:18:20.272583Z"
    }
   },
   "outputs": [
    {
     "data": {
      "image/png": "[encoded data removed]",
      "text/plain": [
       "<Figure size 720x360 with 1 Axes>"
      ]
     },
     "execution_count": 232,
     "metadata": {},
     "output_type": "execute_result"
    }
   ],
   "source": [
    "ab_testing(n=25583, p1=0.2, alpha=0.05, power=0.8, two_sided=True, distribution='Binomial').MDE(minimal_effect=0.01, maximal_effect=0.1, effect_step=0.01, events_per_time_unit_and_variant=15, plot=True)"
   ]
  },
  {
   "cell_type": "markdown",
   "id": "d9519d4b",
   "metadata": {},
   "source": [
    "## Minimum Detectable Effect (*MDE*)"
   ]
  },
  {
   "cell_type": "code",
   "execution_count": 233,
   "id": "7204afe5",
   "metadata": {
    "ExecuteTime": {
     "end_time": "2023-08-13T21:20:14.034089Z",
     "start_time": "2023-08-13T21:20:13.961839Z"
    }
   },
   "outputs": [],
   "source": [
    "cats=pd.read_csv('C:/Users/gshoc/OneDrive/Documentos/MASTER/TFM/Cookie Cats/cookie_cats.csv')"
   ]
  },
  {
   "cell_type": "code",
   "execution_count": 234,
   "id": "73d5e248",
   "metadata": {
    "ExecuteTime": {
     "end_time": "2023-08-13T21:20:14.545945Z",
     "start_time": "2023-08-13T21:20:14.529933Z"
    }
   },
   "outputs": [
    {
     "data": {
      "text/html": [
       "<div>\n",
       "<style scoped>\n",
       "    .dataframe tbody tr th:only-of-type {\n",
       "        vertical-align: middle;\n",
       "    }\n",
       "\n",
       "    .dataframe tbody tr th {\n",
       "        vertical-align: top;\n",
       "    }\n",
       "\n",
       "    .dataframe thead th {\n",
       "        text-align: right;\n",
       "    }\n",
       "</style>\n",
       "<table border=\"1\" class=\"dataframe\">\n",
       "  <thead>\n",
       "    <tr style=\"text-align: right;\">\n",
       "      <th></th>\n",
       "      <th>userid</th>\n",
       "      <th>version</th>\n",
       "      <th>sum_gamerounds</th>\n",
       "      <th>retention_1</th>\n",
       "      <th>retention_7</th>\n",
       "    </tr>\n",
       "  </thead>\n",
       "  <tbody>\n",
       "    <tr>\n",
       "      <th>0</th>\n",
       "      <td>116</td>\n",
       "      <td>gate_30</td>\n",
       "      <td>3</td>\n",
       "      <td>False</td>\n",
       "      <td>False</td>\n",
       "    </tr>\n",
       "    <tr>\n",
       "      <th>1</th>\n",
       "      <td>337</td>\n",
       "      <td>gate_30</td>\n",
       "      <td>38</td>\n",
       "      <td>True</td>\n",
       "      <td>False</td>\n",
       "    </tr>\n",
       "    <tr>\n",
       "      <th>2</th>\n",
       "      <td>377</td>\n",
       "      <td>gate_40</td>\n",
       "      <td>165</td>\n",
       "      <td>True</td>\n",
       "      <td>False</td>\n",
       "    </tr>\n",
       "    <tr>\n",
       "      <th>3</th>\n",
       "      <td>483</td>\n",
       "      <td>gate_40</td>\n",
       "      <td>1</td>\n",
       "      <td>False</td>\n",
       "      <td>False</td>\n",
       "    </tr>\n",
       "    <tr>\n",
       "      <th>4</th>\n",
       "      <td>488</td>\n",
       "      <td>gate_40</td>\n",
       "      <td>179</td>\n",
       "      <td>True</td>\n",
       "      <td>True</td>\n",
       "    </tr>\n",
       "    <tr>\n",
       "      <th>5</th>\n",
       "      <td>540</td>\n",
       "      <td>gate_40</td>\n",
       "      <td>187</td>\n",
       "      <td>True</td>\n",
       "      <td>True</td>\n",
       "    </tr>\n",
       "  </tbody>\n",
       "</table>\n",
       "</div>"
      ],
      "text/plain": [
       "   userid  version  sum_gamerounds  retention_1  retention_7\n",
       "0     116  gate_30               3        False        False\n",
       "1     337  gate_30              38         True        False\n",
       "2     377  gate_40             165         True        False\n",
       "3     483  gate_40               1        False        False\n",
       "4     488  gate_40             179         True         True\n",
       "5     540  gate_40             187         True         True"
      ]
     },
     "execution_count": 234,
     "metadata": {},
     "output_type": "execute_result"
    }
   ],
   "source": [
    "cats.head(6)"
   ]
  },
  {
   "cell_type": "code",
   "execution_count": null,
   "id": "5d4c81c6",
   "metadata": {},
   "outputs": [],
   "source": []
  },
  {
   "cell_type": "code",
   "execution_count": 235,
   "id": "fd6d2d57",
   "metadata": {
    "ExecuteTime": {
     "end_time": "2023-08-13T21:20:15.449590Z",
     "start_time": "2023-08-13T21:20:15.438602Z"
    }
   },
   "outputs": [],
   "source": [
    "cats[['retention_1','retention_7']]=np.where(cats[['retention_1','retention_7']]==True, 1,0)"
   ]
  },
  {
   "cell_type": "code",
   "execution_count": 236,
   "id": "efa71022",
   "metadata": {
    "ExecuteTime": {
     "end_time": "2023-08-13T21:20:15.997652Z",
     "start_time": "2023-08-13T21:20:15.972635Z"
    }
   },
   "outputs": [],
   "source": [
    "cats=cats[cats.version=='gate_30'].drop('version', axis=1)"
   ]
  },
  {
   "cell_type": "code",
   "execution_count": 237,
   "id": "ae673766",
   "metadata": {
    "ExecuteTime": {
     "end_time": "2023-08-13T21:20:16.626396Z",
     "start_time": "2023-08-13T21:20:16.409142Z"
    }
   },
   "outputs": [],
   "source": [
    "startdate=datetime.date(year=2023,month=5,day=1)\n",
    "\n",
    "cats['day']=[startdate+datetime.timedelta(np.random.randint(1,31)) for i in range(len(cats))]\n",
    "\n"
   ]
  },
  {
   "cell_type": "code",
   "execution_count": 238,
   "id": "7ac8f8ed",
   "metadata": {
    "ExecuteTime": {
     "end_time": "2023-08-13T21:20:16.875819Z",
     "start_time": "2023-08-13T21:20:16.846817Z"
    }
   },
   "outputs": [
    {
     "data": {
      "text/html": [
       "<div>\n",
       "<style scoped>\n",
       "    .dataframe tbody tr th:only-of-type {\n",
       "        vertical-align: middle;\n",
       "    }\n",
       "\n",
       "    .dataframe tbody tr th {\n",
       "        vertical-align: top;\n",
       "    }\n",
       "\n",
       "    .dataframe thead th {\n",
       "        text-align: right;\n",
       "    }\n",
       "</style>\n",
       "<table border=\"1\" class=\"dataframe\">\n",
       "  <thead>\n",
       "    <tr style=\"text-align: right;\">\n",
       "      <th></th>\n",
       "      <th>effect</th>\n",
       "      <th>sample size per group</th>\n",
       "      <th>length of experiment</th>\n",
       "    </tr>\n",
       "  </thead>\n",
       "  <tbody>\n",
       "    <tr>\n",
       "      <th>0</th>\n",
       "      <td>0.01</td>\n",
       "      <td>47108</td>\n",
       "      <td>64</td>\n",
       "    </tr>\n",
       "    <tr>\n",
       "      <th>1</th>\n",
       "      <td>0.02</td>\n",
       "      <td>13840</td>\n",
       "      <td>19</td>\n",
       "    </tr>\n",
       "    <tr>\n",
       "      <th>2</th>\n",
       "      <td>0.03</td>\n",
       "      <td>7065</td>\n",
       "      <td>10</td>\n",
       "    </tr>\n",
       "    <tr>\n",
       "      <th>3</th>\n",
       "      <td>0.04</td>\n",
       "      <td>4486</td>\n",
       "      <td>7</td>\n",
       "    </tr>\n",
       "    <tr>\n",
       "      <th>4</th>\n",
       "      <td>0.05</td>\n",
       "      <td>3197</td>\n",
       "      <td>5</td>\n",
       "    </tr>\n",
       "    <tr>\n",
       "      <th>5</th>\n",
       "      <td>0.06</td>\n",
       "      <td>2445</td>\n",
       "      <td>4</td>\n",
       "    </tr>\n",
       "    <tr>\n",
       "      <th>6</th>\n",
       "      <td>0.07</td>\n",
       "      <td>1961</td>\n",
       "      <td>3</td>\n",
       "    </tr>\n",
       "    <tr>\n",
       "      <th>7</th>\n",
       "      <td>0.08</td>\n",
       "      <td>1627</td>\n",
       "      <td>3</td>\n",
       "    </tr>\n",
       "    <tr>\n",
       "      <th>8</th>\n",
       "      <td>0.09</td>\n",
       "      <td>1384</td>\n",
       "      <td>2</td>\n",
       "    </tr>\n",
       "    <tr>\n",
       "      <th>9</th>\n",
       "      <td>0.10</td>\n",
       "      <td>1200</td>\n",
       "      <td>2</td>\n",
       "    </tr>\n",
       "  </tbody>\n",
       "</table>\n",
       "</div>"
      ],
      "text/plain": [
       "   effect  sample size per group  length of experiment\n",
       "0    0.01                  47108                    64\n",
       "1    0.02                  13840                    19\n",
       "2    0.03                   7065                    10\n",
       "3    0.04                   4486                     7\n",
       "4    0.05                   3197                     5\n",
       "5    0.06                   2445                     4\n",
       "6    0.07                   1961                     3\n",
       "7    0.08                   1627                     3\n",
       "8    0.09                   1384                     2\n",
       "9    0.10                   1200                     2"
      ]
     },
     "execution_count": 238,
     "metadata": {},
     "output_type": "execute_result"
    }
   ],
   "source": [
    "ab_testing(data=cats, distribution='Binomial', date_column='day', experiment_unit_column='userid', metric='retention_1', alpha=0.05, power=0.8, two_sided=True).MDE(minimal_effect=0.01, maximal_effect=0.1, effect_step=0.01) "
   ]
  },
  {
   "cell_type": "code",
   "execution_count": 239,
   "id": "1e0a93fa",
   "metadata": {
    "ExecuteTime": {
     "end_time": "2023-08-13T21:20:17.486161Z",
     "start_time": "2023-08-13T21:20:17.466154Z"
    }
   },
   "outputs": [
    {
     "data": {
      "text/html": [
       "<div>\n",
       "<style scoped>\n",
       "    .dataframe tbody tr th:only-of-type {\n",
       "        vertical-align: middle;\n",
       "    }\n",
       "\n",
       "    .dataframe tbody tr th {\n",
       "        vertical-align: top;\n",
       "    }\n",
       "\n",
       "    .dataframe thead th {\n",
       "        text-align: right;\n",
       "    }\n",
       "</style>\n",
       "<table border=\"1\" class=\"dataframe\">\n",
       "  <thead>\n",
       "    <tr style=\"text-align: right;\">\n",
       "      <th></th>\n",
       "      <th>effect</th>\n",
       "      <th>sample size per group</th>\n",
       "      <th>length of experiment</th>\n",
       "    </tr>\n",
       "  </thead>\n",
       "  <tbody>\n",
       "    <tr>\n",
       "      <th>0</th>\n",
       "      <td>0.01</td>\n",
       "      <td>47016</td>\n",
       "      <td>64</td>\n",
       "    </tr>\n",
       "    <tr>\n",
       "      <th>1</th>\n",
       "      <td>0.02</td>\n",
       "      <td>13790</td>\n",
       "      <td>19</td>\n",
       "    </tr>\n",
       "    <tr>\n",
       "      <th>2</th>\n",
       "      <td>0.03</td>\n",
       "      <td>7029</td>\n",
       "      <td>10</td>\n",
       "    </tr>\n",
       "    <tr>\n",
       "      <th>3</th>\n",
       "      <td>0.04</td>\n",
       "      <td>4457</td>\n",
       "      <td>6</td>\n",
       "    </tr>\n",
       "    <tr>\n",
       "      <th>4</th>\n",
       "      <td>0.05</td>\n",
       "      <td>3173</td>\n",
       "      <td>5</td>\n",
       "    </tr>\n",
       "    <tr>\n",
       "      <th>5</th>\n",
       "      <td>0.06</td>\n",
       "      <td>2425</td>\n",
       "      <td>4</td>\n",
       "    </tr>\n",
       "    <tr>\n",
       "      <th>6</th>\n",
       "      <td>0.07</td>\n",
       "      <td>1944</td>\n",
       "      <td>3</td>\n",
       "    </tr>\n",
       "    <tr>\n",
       "      <th>7</th>\n",
       "      <td>0.08</td>\n",
       "      <td>1612</td>\n",
       "      <td>3</td>\n",
       "    </tr>\n",
       "    <tr>\n",
       "      <th>8</th>\n",
       "      <td>0.09</td>\n",
       "      <td>1371</td>\n",
       "      <td>2</td>\n",
       "    </tr>\n",
       "    <tr>\n",
       "      <th>9</th>\n",
       "      <td>0.10</td>\n",
       "      <td>1189</td>\n",
       "      <td>2</td>\n",
       "    </tr>\n",
       "  </tbody>\n",
       "</table>\n",
       "</div>"
      ],
      "text/plain": [
       "   effect  sample size per group  length of experiment\n",
       "0    0.01                  47016                    64\n",
       "1    0.02                  13790                    19\n",
       "2    0.03                   7029                    10\n",
       "3    0.04                   4457                     6\n",
       "4    0.05                   3173                     5\n",
       "5    0.06                   2425                     4\n",
       "6    0.07                   1944                     3\n",
       "7    0.08                   1612                     3\n",
       "8    0.09                   1371                     2\n",
       "9    0.10                   1189                     2"
      ]
     },
     "execution_count": 239,
     "metadata": {},
     "output_type": "execute_result"
    }
   ],
   "source": [
    "ab_testing(data=cats, distribution='Gaussian', date_column='day', experiment_unit_column='userid', metric='retention_1', alpha=0.05, power=0.8, two_sided=True).MDE(minimal_effect=0.01, maximal_effect=0.1, effect_step=0.01) "
   ]
  },
  {
   "cell_type": "code",
   "execution_count": 240,
   "id": "d73a93cc",
   "metadata": {
    "ExecuteTime": {
     "end_time": "2023-08-13T21:20:18.141782Z",
     "start_time": "2023-08-13T21:20:18.127782Z"
    }
   },
   "outputs": [
    {
     "data": {
      "text/html": [
       "<div>\n",
       "<style scoped>\n",
       "    .dataframe tbody tr th:only-of-type {\n",
       "        vertical-align: middle;\n",
       "    }\n",
       "\n",
       "    .dataframe tbody tr th {\n",
       "        vertical-align: top;\n",
       "    }\n",
       "\n",
       "    .dataframe thead th {\n",
       "        text-align: right;\n",
       "    }\n",
       "</style>\n",
       "<table border=\"1\" class=\"dataframe\">\n",
       "  <thead>\n",
       "    <tr style=\"text-align: right;\">\n",
       "      <th></th>\n",
       "      <th>effect</th>\n",
       "      <th>sample size per group</th>\n",
       "      <th>length of experiment</th>\n",
       "    </tr>\n",
       "  </thead>\n",
       "  <tbody>\n",
       "    <tr>\n",
       "      <th>0</th>\n",
       "      <td>0.01</td>\n",
       "      <td>30981</td>\n",
       "      <td>517</td>\n",
       "    </tr>\n",
       "    <tr>\n",
       "      <th>1</th>\n",
       "      <td>0.02</td>\n",
       "      <td>9249</td>\n",
       "      <td>155</td>\n",
       "    </tr>\n",
       "    <tr>\n",
       "      <th>2</th>\n",
       "      <td>0.03</td>\n",
       "      <td>4795</td>\n",
       "      <td>80</td>\n",
       "    </tr>\n",
       "    <tr>\n",
       "      <th>3</th>\n",
       "      <td>0.04</td>\n",
       "      <td>3091</td>\n",
       "      <td>52</td>\n",
       "    </tr>\n",
       "    <tr>\n",
       "      <th>4</th>\n",
       "      <td>0.05</td>\n",
       "      <td>2236</td>\n",
       "      <td>38</td>\n",
       "    </tr>\n",
       "    <tr>\n",
       "      <th>5</th>\n",
       "      <td>0.06</td>\n",
       "      <td>1735</td>\n",
       "      <td>29</td>\n",
       "    </tr>\n",
       "    <tr>\n",
       "      <th>6</th>\n",
       "      <td>0.07</td>\n",
       "      <td>1411</td>\n",
       "      <td>24</td>\n",
       "    </tr>\n",
       "    <tr>\n",
       "      <th>7</th>\n",
       "      <td>0.08</td>\n",
       "      <td>1187</td>\n",
       "      <td>20</td>\n",
       "    </tr>\n",
       "    <tr>\n",
       "      <th>8</th>\n",
       "      <td>0.09</td>\n",
       "      <td>1024</td>\n",
       "      <td>18</td>\n",
       "    </tr>\n",
       "    <tr>\n",
       "      <th>9</th>\n",
       "      <td>0.10</td>\n",
       "      <td>900</td>\n",
       "      <td>15</td>\n",
       "    </tr>\n",
       "  </tbody>\n",
       "</table>\n",
       "</div>"
      ],
      "text/plain": [
       "   effect  sample size per group  length of experiment\n",
       "0    0.01                  30981                   517\n",
       "1    0.02                   9249                   155\n",
       "2    0.03                   4795                    80\n",
       "3    0.04                   3091                    52\n",
       "4    0.05                   2236                    38\n",
       "5    0.06                   1735                    29\n",
       "6    0.07                   1411                    24\n",
       "7    0.08                   1187                    20\n",
       "8    0.09                   1024                    18\n",
       "9    0.10                    900                    15"
      ]
     },
     "execution_count": 240,
     "metadata": {},
     "output_type": "execute_result"
    }
   ],
   "source": [
    "experiment=ab_testing(p1=0.2, n=25583, alpha=0.05, power=0.8 ,two_sided=True, distribution='Binomial')\n",
    "\n",
    "experiment.MDE(minimal_effect=0.01, maximal_effect=0.1, effect_step=0.01, events_per_time_unit_and_variant=60)"
   ]
  },
  {
   "cell_type": "code",
   "execution_count": 241,
   "id": "052df220",
   "metadata": {
    "ExecuteTime": {
     "end_time": "2023-08-13T21:20:19.029884Z",
     "start_time": "2023-08-13T21:20:18.880006Z"
    }
   },
   "outputs": [
    {
     "data": {
      "image/png": "[encoded data removed]",
      "text/plain": [
       "<Figure size 720x360 with 1 Axes>"
      ]
     },
     "execution_count": 241,
     "metadata": {},
     "output_type": "execute_result"
    }
   ],
   "source": [
    "experiment=ab_testing(data=cats, distribution='Binomial', date_column='day', metric='retention_1', \n",
    "                      alpha=0.05, power=0.8, two_sided=True)\n",
    "\n",
    "experiment.MDE(minimal_effect=0.01, maximal_effect=0.1, effect_step=0.01, plot=True, annot=True) "
   ]
  },
  {
   "cell_type": "markdown",
   "id": "fb73e66a",
   "metadata": {},
   "source": [
    "# Clustered Experiments"
   ]
  },
  {
   "cell_type": "code",
   "execution_count": 242,
   "id": "ad220afb",
   "metadata": {
    "ExecuteTime": {
     "end_time": "2023-08-13T21:23:06.728514Z",
     "start_time": "2023-08-13T21:23:05.487850Z"
    }
   },
   "outputs": [],
   "source": [
    "# Creating an imaginary dataset\n",
    "\n",
    "np.random.seed=0\n",
    "\n",
    "x=np.random.dirichlet(alpha=np.random.gamma(3, 2, 1000))\n",
    "\n",
    "driver_id=np.random.choice(np.arange(1000), 100000, replace=True, p=x)\n",
    "\n",
    "df=pd.DataFrame({'driver_id':driver_id})\n",
    "df['weekday']=np.random.choice(np.arange(7), size=100000)\n",
    "df['reaction_time']=df.apply(lambda x: x.driver_id/1000 * x.weekday + np.random.rand() , axis=1)"
   ]
  },
  {
   "cell_type": "code",
   "execution_count": 243,
   "id": "1c3ae58c",
   "metadata": {
    "ExecuteTime": {
     "end_time": "2023-08-13T21:23:06.744524Z",
     "start_time": "2023-08-13T21:23:06.730516Z"
    }
   },
   "outputs": [
    {
     "data": {
      "text/html": [
       "<div>\n",
       "<style scoped>\n",
       "    .dataframe tbody tr th:only-of-type {\n",
       "        vertical-align: middle;\n",
       "    }\n",
       "\n",
       "    .dataframe tbody tr th {\n",
       "        vertical-align: top;\n",
       "    }\n",
       "\n",
       "    .dataframe thead th {\n",
       "        text-align: right;\n",
       "    }\n",
       "</style>\n",
       "<table border=\"1\" class=\"dataframe\">\n",
       "  <thead>\n",
       "    <tr style=\"text-align: right;\">\n",
       "      <th></th>\n",
       "      <th>driver_id</th>\n",
       "      <th>weekday</th>\n",
       "      <th>reaction_time</th>\n",
       "    </tr>\n",
       "  </thead>\n",
       "  <tbody>\n",
       "    <tr>\n",
       "      <th>0</th>\n",
       "      <td>999</td>\n",
       "      <td>0</td>\n",
       "      <td>0.273700</td>\n",
       "    </tr>\n",
       "    <tr>\n",
       "      <th>1</th>\n",
       "      <td>746</td>\n",
       "      <td>1</td>\n",
       "      <td>1.354472</td>\n",
       "    </tr>\n",
       "    <tr>\n",
       "      <th>2</th>\n",
       "      <td>42</td>\n",
       "      <td>5</td>\n",
       "      <td>0.846888</td>\n",
       "    </tr>\n",
       "    <tr>\n",
       "      <th>3</th>\n",
       "      <td>957</td>\n",
       "      <td>0</td>\n",
       "      <td>0.282827</td>\n",
       "    </tr>\n",
       "    <tr>\n",
       "      <th>4</th>\n",
       "      <td>662</td>\n",
       "      <td>6</td>\n",
       "      <td>4.582228</td>\n",
       "    </tr>\n",
       "  </tbody>\n",
       "</table>\n",
       "</div>"
      ],
      "text/plain": [
       "   driver_id  weekday  reaction_time\n",
       "0        999        0       0.273700\n",
       "1        746        1       1.354472\n",
       "2         42        5       0.846888\n",
       "3        957        0       0.282827\n",
       "4        662        6       4.582228"
      ]
     },
     "execution_count": 243,
     "metadata": {},
     "output_type": "execute_result"
    }
   ],
   "source": [
    "df.head()"
   ]
  },
  {
   "cell_type": "code",
   "execution_count": 244,
   "id": "ba91944e",
   "metadata": {
    "ExecuteTime": {
     "end_time": "2023-08-13T21:23:07.046578Z",
     "start_time": "2023-08-13T21:23:06.745510Z"
    }
   },
   "outputs": [
    {
     "data": {
      "text/plain": [
       "Text(0.5, 0, 'minutes')"
      ]
     },
     "execution_count": 244,
     "metadata": {},
     "output_type": "execute_result"
    },
    {
     "data": {
      "image/png": "[encoded data removed]",
      "text/plain": [
       "<Figure size 432x288 with 1 Axes>"
      ]
     },
     "metadata": {
      "needs_background": "light"
     },
     "output_type": "display_data"
    }
   ],
   "source": [
    "df.reaction_time.hist(bins=100, edgecolor='black' ,color='yellow')\n",
    "plt.title('Distribution of Reaction Times')\n",
    "plt.xlabel('minutes')"
   ]
  },
  {
   "cell_type": "code",
   "execution_count": 245,
   "id": "b6eebd3c",
   "metadata": {
    "ExecuteTime": {
     "end_time": "2023-08-13T21:25:04.462347Z",
     "start_time": "2023-08-13T21:23:07.166614Z"
    }
   },
   "outputs": [
    {
     "name": "stdout",
     "output_type": "stream",
     "text": [
      "False Positive Rate (Type I error): 0.774\n"
     ]
    }
   ],
   "source": [
    "from scipy.stats import ttest_ind\n",
    "\n",
    "def allocate_treatment(data: pd.DataFrame , user_column: str):\n",
    "    data['variant']=data.groupby([user_column])[user_column].transform(lambda x: np.random.choice(['A','B']))\n",
    "    return data\n",
    "\n",
    "iterations=1000\n",
    "number_significant=0\n",
    "pvalues=[]\n",
    "\n",
    "\n",
    "for i in range(iterations):\n",
    "    df=allocate_treatment(df, 'driver_id')\n",
    "    p_value=ttest_ind(df[df.variant=='A'].reaction_time , df[df.variant=='B'].reaction_time)[1]\n",
    "    pvalues.append(p_value)\n",
    "    number_significant+=p_value<0.05\n",
    "    \n",
    "\n",
    "print(f'False Positive Rate (Type I error): {number_significant/iterations}')\n",
    "   "
   ]
  },
  {
   "cell_type": "code",
   "execution_count": 246,
   "id": "89467cbb",
   "metadata": {
    "ExecuteTime": {
     "end_time": "2023-08-13T21:25:04.717572Z",
     "start_time": "2023-08-13T21:25:04.464340Z"
    }
   },
   "outputs": [
    {
     "data": {
      "text/plain": [
       "Text(0.5, 0, 'rides')"
      ]
     },
     "execution_count": 246,
     "metadata": {},
     "output_type": "execute_result"
    },
    {
     "data": {
      "image/png": "[encoded data removed]",
      "text/plain": [
       "<Figure size 432x288 with 1 Axes>"
      ]
     },
     "metadata": {
      "needs_background": "light"
     },
     "output_type": "display_data"
    }
   ],
   "source": [
    "\n",
    "#distribution of number of rides per driver\n",
    "\n",
    "df.groupby('driver_id').size().hist(bins=100, edgecolor='black' ,color='yellow')\n",
    "plt.title('Distribution number of rides per driver')\n",
    "plt.xlabel('rides')"
   ]
  },
  {
   "cell_type": "code",
   "execution_count": 247,
   "id": "d3804c6b",
   "metadata": {
    "ExecuteTime": {
     "end_time": "2023-08-13T21:25:04.732843Z",
     "start_time": "2023-08-13T21:25:04.719589Z"
    }
   },
   "outputs": [
    {
     "data": {
      "text/plain": [
       "999"
      ]
     },
     "execution_count": 247,
     "metadata": {},
     "output_type": "execute_result"
    }
   ],
   "source": [
    "df.driver_id.nunique()"
   ]
  },
  {
   "cell_type": "code",
   "execution_count": 248,
   "id": "31596293",
   "metadata": {
    "ExecuteTime": {
     "end_time": "2023-08-13T21:25:04.748078Z",
     "start_time": "2023-08-13T21:25:04.734858Z"
    }
   },
   "outputs": [],
   "source": [
    "def clustered_power(df, cluster_cols: str , metric_col: str , num_variants: int  , effect: float, alpha: float, iterations: int, verbose=True):\n",
    "    import statsmodels.api as sm\n",
    "    \n",
    "    \n",
    "    family = sm.families.Gaussian()\n",
    "    cov_struct=sm.cov_struct.Exchangeable()\n",
    "    \n",
    "    def allocate_treatment(df, cluster_cols, metric_col, num_variants):\n",
    "        clusters=df[cluster_cols].unique()\n",
    "        treatments=[np.random.choice(num_variants,1)[0] for i in clusters]\n",
    "        clusters=pd.DataFrame({'clusters':clusters, 'treatments':treatments})\n",
    "        clusters=pd.get_dummies(clusters, columns=['treatments'], drop_first=True)\n",
    "        df=df.merge(clusters, how='left', left_on=cluster_cols, right_on='clusters')\n",
    "        df=df.drop('clusters', axis=1)\n",
    "        return df\n",
    "    def add_effect(data,effect):\n",
    "        data[metric_col]=np.where(data.iloc[:,2]==1, data[metric_col]+effect, data[metric_col])\n",
    "        return data\n",
    "    num_significant=0\n",
    "    n=1\n",
    "    for i in range(iterations):\n",
    "        data=df[[cluster_cols, metric_col]].copy()\n",
    "        variants=[x for x in range(num_variants)]\n",
    "        data=add_effect(allocate_treatment(data, cluster_cols, metric_col, variants)   , effect)\n",
    "        model=sm.GEE.from_formula(f'{metric_col} ~ {\" + \".join(data.iloc[:,2:].columns)}', data=data, groups=cluster_cols , family=family, cov_struct=cov_struct)\n",
    "        result=model.fit()\n",
    "        num_significant+=result.pvalues[1]<alpha\n",
    "        if verbose:\n",
    "            print(f'Iteration {n}')\n",
    "        n+=1\n",
    "\n",
    "    return num_significant/iterations\n"
   ]
  },
  {
   "cell_type": "code",
   "execution_count": 249,
   "id": "d8c44d69",
   "metadata": {
    "ExecuteTime": {
     "end_time": "2023-08-13T21:28:34.869392Z",
     "start_time": "2023-08-13T21:25:04.750086Z"
    }
   },
   "outputs": [
    {
     "data": {
      "text/plain": [
       "0.035"
      ]
     },
     "execution_count": 249,
     "metadata": {},
     "output_type": "execute_result"
    }
   ],
   "source": [
    "clustered_power(df, cluster_cols='driver_id' , metric_col='reaction_time' , num_variants=3  , effect=0.0, alpha=0.05, iterations=400, verbose=False)"
   ]
  },
  {
   "cell_type": "code",
   "execution_count": 250,
   "id": "7f5b2162",
   "metadata": {
    "ExecuteTime": {
     "end_time": "2023-08-13T21:28:35.013424Z",
     "start_time": "2023-08-13T21:28:34.871394Z"
    }
   },
   "outputs": [
    {
     "ename": "TypeError",
     "evalue": "__init__() got an unexpected keyword argument 'num_variants'",
     "output_type": "error",
     "traceback": [
      "\u001b[1;31m---------------------------------------------------------------------------\u001b[0m",
      "\u001b[1;31mTypeError\u001b[0m                                 Traceback (most recent call last)",
      "\u001b[1;32m~\\AppData\\Local\\Temp/ipykernel_14084/273963645.py\u001b[0m in \u001b[0;36m<module>\u001b[1;34m\u001b[0m\n\u001b[1;32m----> 1\u001b[1;33m \u001b[0mexperiment\u001b[0m\u001b[1;33m=\u001b[0m\u001b[0mab_testing\u001b[0m\u001b[1;33m(\u001b[0m\u001b[0mp1\u001b[0m\u001b[1;33m=\u001b[0m\u001b[1;36m0.25\u001b[0m\u001b[1;33m,\u001b[0m \u001b[0mn\u001b[0m\u001b[1;33m=\u001b[0m\u001b[1;36m8500\u001b[0m\u001b[1;33m,\u001b[0m \u001b[0malpha\u001b[0m\u001b[1;33m=\u001b[0m\u001b[1;36m0.05\u001b[0m\u001b[1;33m,\u001b[0m \u001b[0mpower\u001b[0m\u001b[1;33m=\u001b[0m\u001b[1;36m0.8\u001b[0m \u001b[1;33m,\u001b[0m\u001b[0mtwo_sided\u001b[0m\u001b[1;33m=\u001b[0m\u001b[1;32mTrue\u001b[0m\u001b[1;33m,\u001b[0m \u001b[0mdistribution\u001b[0m\u001b[1;33m=\u001b[0m\u001b[1;34m'Binomial'\u001b[0m\u001b[1;33m,\u001b[0m \u001b[0mnum_variants\u001b[0m\u001b[1;33m=\u001b[0m\u001b[1;36m4\u001b[0m\u001b[1;33m)\u001b[0m\u001b[1;33m\u001b[0m\u001b[1;33m\u001b[0m\u001b[0m\n\u001b[0m\u001b[0;32m      2\u001b[0m \u001b[1;33m\u001b[0m\u001b[0m\n\u001b[0;32m      3\u001b[0m \u001b[1;31m#experiment.MDE(minimal_effect=0.01, maximal_effect=0.1, effect_step=0.01, events_per_time_unit_and_variant=60)\u001b[0m\u001b[1;33m\u001b[0m\u001b[1;33m\u001b[0m\u001b[0m\n",
      "\u001b[1;31mTypeError\u001b[0m: __init__() got an unexpected keyword argument 'num_variants'"
     ]
    }
   ],
   "source": [
    "experiment=ab_testing(p1=0.25, n=8500, alpha=0.05, power=0.8 ,two_sided=True, distribution='Binomial', num_variants=4)\n",
    "\n",
    "#experiment.MDE(minimal_effect=0.01, maximal_effect=0.1, effect_step=0.01, events_per_time_unit_and_variant=60)"
   ]
  },
  {
   "cell_type": "code",
   "execution_count": null,
   "id": "4fe3223d",
   "metadata": {
    "ExecuteTime": {
     "end_time": "2023-08-13T21:28:35.014425Z",
     "start_time": "2023-08-13T21:28:35.014425Z"
    }
   },
   "outputs": [],
   "source": [
    "print(experiment)"
   ]
  },
  {
   "cell_type": "code",
   "execution_count": null,
   "id": "ba614501",
   "metadata": {
    "ExecuteTime": {
     "end_time": "2023-08-13T21:28:35.016426Z",
     "start_time": "2023-08-13T21:28:35.016426Z"
    }
   },
   "outputs": [],
   "source": [
    "df.groupby('variant').reaction_time.mean().diff()"
   ]
  },
  {
   "cell_type": "code",
   "execution_count": null,
   "id": "411dd444",
   "metadata": {
    "ExecuteTime": {
     "end_time": "2023-08-13T21:28:35.017426Z",
     "start_time": "2023-08-13T21:28:35.017426Z"
    }
   },
   "outputs": [],
   "source": [
    "import statsmodels.api as sm\n",
    "    \n",
    "    \n",
    "family = sm.families.Gaussian()\n",
    "cov_struct=sm.cov_struct.Exchangeable()\n",
    "#df['variant']=np.where(df.variant=='A',1,0)\n",
    "model=sm.GEE.from_formula(f'{\"reaction_time\"} ~ {\" + \".join(df.iloc[:,3:].columns)}', data=df, groups='driver_id' , family=family, cov_struct=cov_struct)\n",
    "result=model.fit()"
   ]
  },
  {
   "cell_type": "code",
   "execution_count": null,
   "id": "cb578622",
   "metadata": {
    "ExecuteTime": {
     "end_time": "2023-08-13T21:28:35.018426Z",
     "start_time": "2023-08-13T21:28:35.018426Z"
    }
   },
   "outputs": [],
   "source": [
    "result.summary()"
   ]
  },
  {
   "cell_type": "code",
   "execution_count": null,
   "id": "3369da9f",
   "metadata": {
    "ExecuteTime": {
     "end_time": "2023-08-13T21:28:35.019426Z",
     "start_time": "2023-08-13T21:28:35.019426Z"
    }
   },
   "outputs": [],
   "source": [
    "df"
   ]
  },
  {
   "cell_type": "code",
   "execution_count": null,
   "id": "37da23b6",
   "metadata": {
    "ExecuteTime": {
     "end_time": "2023-08-13T21:28:35.021426Z",
     "start_time": "2023-08-13T21:28:35.021426Z"
    }
   },
   "outputs": [],
   "source": [
    "from scipy.stats import pearsonr"
   ]
  },
  {
   "cell_type": "code",
   "execution_count": null,
   "id": "606593cb",
   "metadata": {
    "ExecuteTime": {
     "end_time": "2023-08-13T21:28:35.022427Z",
     "start_time": "2023-08-13T21:28:35.022427Z"
    }
   },
   "outputs": [],
   "source": [
    "pearsonr([1,3],[7,2])"
   ]
  },
  {
   "cell_type": "code",
   "execution_count": null,
   "id": "654e128e",
   "metadata": {
    "ExecuteTime": {
     "end_time": "2023-08-13T21:28:35.023429Z",
     "start_time": "2023-08-13T21:28:35.023429Z"
    }
   },
   "outputs": [],
   "source": [
    "norm.ppf(0.8)"
   ]
  },
  {
   "cell_type": "code",
   "execution_count": null,
   "id": "1b5d138f",
   "metadata": {
    "ExecuteTime": {
     "end_time": "2023-08-06T16:33:07.249779Z",
     "start_time": "2023-08-06T16:33:07.241767Z"
    }
   },
   "outputs": [],
   "source": [
    "cats['retention_1']=np.where(cats.retention_1==True, 1,0)"
   ]
  },
  {
   "cell_type": "code",
   "execution_count": null,
   "id": "ba9e2097",
   "metadata": {
    "ExecuteTime": {
     "end_time": "2023-08-06T21:44:12.777892Z",
     "start_time": "2023-08-06T21:44:12.758880Z"
    }
   },
   "outputs": [],
   "source": [
    "def gst(data, metric_col=None, proportion_sample_sizes=[0.2,0.4,0.6,0.8,1] , alpha=0.05, method='obf'):\n",
    "    sample=data[metric_col].values\n",
    "    sample_size=len(sample)\n",
    "    zeds=[]\n",
    "    \n",
    "    def alpha_spending(t,alpha, method):\n",
    "        if method=='obf':\n",
    "            a=2-2*norm.cdf(norm.cdf(1-alpha/2)**-1/np.sqrt(t))\n",
    "        elif method=='pocock':\n",
    "            a=alpha/2*np.log(1+(np.exp(1)-1)**t)\n",
    "        else:\n",
    "            a=alpha/2*t\n",
    "        return a\n",
    "    \n",
    "    for n,t in enumerate(proportion_sample_sizes[:]):\n",
    "        #z=np.sum([np.sqrt(proportion_sample_sizes[m+1]-proportion_sample_sizes[m]) * norm.ppf(alpha_spending(proportion_sample_sizes[n+1],alpha,method)) for m,i in enumerate(proportion_sample_sizes[:n-1])])/np.sqrt(np.sum([proportion_sample_sizes[m+1]-proportion_sample_sizes[m] for m,i in enumerate(proportion_sample_sizes[:n-1])]))\n",
    "        #z=norm.ppf(alpha_spending(t,alpha,method))/np.sqrt(t)\n",
    "        z=np.sqrt(t)*norm.ppf(alpha_spending(t,alpha,method))/np.sqrt(t-)\n",
    "        zeds.append(z)\n",
    "    return zeds\n",
    "    "
   ]
  },
  {
   "cell_type": "code",
   "execution_count": null,
   "id": "9a6c6ac1",
   "metadata": {
    "ExecuteTime": {
     "end_time": "2023-08-06T21:42:51.558977Z",
     "start_time": "2023-08-06T21:42:51.546997Z"
    }
   },
   "outputs": [],
   "source": [
    "norm.ppf(alpha_spending(i,0.05,'obf'))"
   ]
  },
  {
   "cell_type": "code",
   "execution_count": null,
   "id": "008765d3",
   "metadata": {
    "ExecuteTime": {
     "end_time": "2023-08-06T21:42:51.952910Z",
     "start_time": "2023-08-06T21:42:51.932916Z"
    }
   },
   "outputs": [],
   "source": [
    "np.sqrt([0,0.2,0.4,0.6,0.8,1][1]-[0,0.2,0.4,0.6,0.8,1][0])"
   ]
  },
  {
   "cell_type": "code",
   "execution_count": null,
   "id": "a7c8c69d",
   "metadata": {
    "ExecuteTime": {
     "end_time": "2023-08-06T21:42:53.029342Z",
     "start_time": "2023-08-06T21:42:53.007973Z"
    }
   },
   "outputs": [],
   "source": [
    "gst(data=cats, metric_col='retention_1', alpha=0.05, method='obf')"
   ]
  },
  {
   "cell_type": "code",
   "execution_count": 27,
   "id": "164e2376",
   "metadata": {
    "ExecuteTime": {
     "end_time": "2023-08-07T00:41:02.064607Z",
     "start_time": "2023-08-07T00:41:02.057601Z"
    }
   },
   "outputs": [],
   "source": [
    "def alpha_spending(t, alpha, method, tails):\n",
    "        if method=='obf':\n",
    "            a=2-2*norm.cdf(norm.ppf(1-(alpha/(2*tails)))/np.sqrt(t))\n",
    "        elif method=='pocock':\n",
    "            a=alpha/tails * np.log(1+(np.exp(1)-1)*t)\n",
    "        elif method=='uniform':\n",
    "            a= alpha/tails * t\n",
    "        boundaries=[norm.ppf(a) , norm.ppf(1-a)]\n",
    "        a=a*tails\n",
    "        return {'alpha': a, 'upper boundary': np.max(boundaries) , 'lower boundary': np.min(boundaries)}"
   ]
  },
  {
   "cell_type": "code",
   "execution_count": 28,
   "id": "c7777a6b",
   "metadata": {
    "ExecuteTime": {
     "end_time": "2023-08-07T00:41:02.853418Z",
     "start_time": "2023-08-07T00:41:02.838416Z"
    }
   },
   "outputs": [
    {
     "data": {
      "text/plain": [
       "{'alpha': 0.0007883035133824379,\n",
       " 'upper boundary': 3.3568693560909866,\n",
       " 'lower boundary': -3.3568693560909866}"
      ]
     },
     "execution_count": 28,
     "metadata": {},
     "output_type": "execute_result"
    }
   ],
   "source": [
    "alpha_spending(t=0.4, alpha=0.05, method='obf', tails=2)"
   ]
  },
  {
   "cell_type": "code",
   "execution_count": 29,
   "id": "0946dadf",
   "metadata": {
    "ExecuteTime": {
     "end_time": "2023-08-07T00:41:03.929283Z",
     "start_time": "2023-08-07T00:41:03.628609Z"
    }
   },
   "outputs": [
    {
     "data": {
      "text/plain": [
       "<Axes: >"
      ]
     },
     "execution_count": 29,
     "metadata": {},
     "output_type": "execute_result"
    },
    {
     "data": {
      "image/png": "[encoded data removed]",
      "text/plain": [
       "<Figure size 432x288 with 1 Axes>"
      ]
     },
     "metadata": {
      "needs_background": "light"
     },
     "output_type": "display_data"
    }
   ],
   "source": [
    "bound=pd.DataFrame()\n",
    "n=0\n",
    "for i in np.arange(0.1, 1, 0.1):\n",
    "    for j in ['obf','pocock','uniform']:\n",
    "        result=alpha_spending(t=i, alpha=0.05, method=j, tails=2)\n",
    "        result['proportion']=i\n",
    "        result['method']=j\n",
    "        result=pd.DataFrame(result, index=[n])\n",
    "        n+=1\n",
    "        bound=pd.concat([bound, result])\n",
    "        \n",
    "import seaborn as sns\n",
    "sns.lineplot(data=bound, x=bound['proportion'].values, y=bound['upper boundary'].values, hue=bound['method'].values)\n",
    "sns.lineplot(data=bound, x=bound['proportion'].values, y=bound['lower boundary'].values, hue=bound['method'].values, legend=False)\n",
    "#plt.legend(bound.method.unique())\n"
   ]
  },
  {
   "cell_type": "code",
   "execution_count": 9,
   "id": "3ea0d842",
   "metadata": {
    "ExecuteTime": {
     "end_time": "2023-08-07T00:30:41.871486Z",
     "start_time": "2023-08-07T00:30:41.864485Z"
    }
   },
   "outputs": [
    {
     "data": {
      "text/plain": [
       "0.13276822499696428"
      ]
     },
     "execution_count": 9,
     "metadata": {},
     "output_type": "execute_result"
    }
   ],
   "source": [
    "bound[(bound.method=='pocock')].alpha.sum()/2"
   ]
  },
  {
   "cell_type": "code",
   "execution_count": null,
   "id": "bdb0b3ef",
   "metadata": {},
   "outputs": [],
   "source": []
  }
 ],
 "metadata": {
  "kernelspec": {
   "display_name": "Python 3 (ipykernel)",
   "language": "python",
   "name": "python3"
  },
  "language_info": {
   "codemirror_mode": {
    "name": "ipython",
    "version": 3
   },
   "file_extension": ".py",
   "mimetype": "text/x-python",
   "name": "python",
   "nbconvert_exporter": "python",
   "pygments_lexer": "ipython3",
   "version": "3.9.7"
  }
 },
 "nbformat": 4,
 "nbformat_minor": 5
}
